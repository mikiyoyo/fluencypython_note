{
 "cells": [
  {
   "cell_type": "markdown",
   "metadata": {},
   "source": [
    "## 7.函数装饰器和闭包\n",
    "# 7.1装饰器基础知识\n",
    "1. 装饰器是可调用的对象，参数是另一个函数（被装饰的函数）。\n",
    "```\n",
    "@decorate\n",
    "def fun()\n",
    "等同于fun = decorate(fun)\n",
    "```\n",
    "2. 装饰器可以处理被装饰函数后再返回，也可以直接替换成另一个函数或可调用的对象（此时被装饰函数名为返回函数的引用）"
   ]
  },
  {
   "cell_type": "code",
   "execution_count": 1,
   "metadata": {},
   "outputs": [
    {
     "name": "stdout",
     "output_type": "stream",
     "text": [
      "inner()\n",
      "<function deco.<locals>.inner at 0x7fb9f82171f0>\n"
     ]
    }
   ],
   "source": [
    "def deco(func):\n",
    "    def inner():\n",
    "        print('inner()')\n",
    "    return inner\n",
    "@deco\n",
    "def target():\n",
    "    print('target')\n",
    "\n",
    "target()\n",
    "print(target)# target为inner函数的引用"
   ]
  },
  {
   "cell_type": "markdown",
   "metadata": {},
   "source": [
    "## 7.2 Python何时执行装饰器\n",
    "1. 装饰器在被装饰的函数定义之后立即运行。若作为模块，为导入模块时就运行"
   ]
  },
  {
   "cell_type": "code",
   "execution_count": 3,
   "metadata": {},
   "outputs": [
    {
     "name": "stdout",
     "output_type": "stream",
     "text": [
      "running register(<function f1 at 0x7fb9f8217280>)\n",
      "running register(<function f2 at 0x7fb9f8217160>)\n",
      "running main()\n",
      "registry -> [<function f1 at 0x7fb9f8217280>, <function f2 at 0x7fb9f8217160>]\n",
      "running f1()\n",
      "running f2()\n",
      "running f3()\n"
     ]
    }
   ],
   "source": [
    "registry = []  # <1>\n",
    "\n",
    "def register(func):  # <2>\n",
    "    print('running register(%s)' % func)  # <3>\n",
    "    registry.append(func)  # <4>\n",
    "    return func  # <5>\n",
    "\n",
    "@register  # <6>\n",
    "def f1():\n",
    "    print('running f1()')\n",
    "\n",
    "@register\n",
    "def f2():\n",
    "    print('running f2()')\n",
    "\n",
    "def f3():  # <7>\n",
    "    print('running f3()')\n",
    "\n",
    "def main():  # <8>\n",
    "    print('running main()')\n",
    "    print('registry ->', registry)\n",
    "    f1()\n",
    "    f2()\n",
    "    f3()\n",
    "main()#装饰器函数先运行"
   ]
  },
  {
   "cell_type": "markdown",
   "metadata": {},
   "source": [
    "## 7.4变量作用域规则\n",
    "1. 因为函数体对b进行赋值了，Python编译函数定义体时，判断b为局部变量，Python会尝试从本地环境中获取b， 则会报错，因为局部变量b还没有绑定任何值（在全局变量与局部变量同名的情况下并有赋值行为，未声明是全局变量，函数体默认为局部变量，无论局部变量赋值语句出现的先后顺序）"
   ]
  },
  {
   "cell_type": "code",
   "execution_count": 8,
   "metadata": {},
   "outputs": [
    {
     "name": "stdout",
     "output_type": "stream",
     "text": [
      "3\n"
     ]
    },
    {
     "ename": "UnboundLocalError",
     "evalue": "local variable 'b' referenced before assignment",
     "output_type": "error",
     "traceback": [
      "\u001b[0;31m---------------------------------------------------------------------------\u001b[0m",
      "\u001b[0;31mUnboundLocalError\u001b[0m                         Traceback (most recent call last)",
      "\u001b[0;32m/var/folders/ty/dsj71tyj60v5x5mrmdh35fwc0000gn/T/ipykernel_98526/3557192031.py\u001b[0m in \u001b[0;36m<module>\u001b[0;34m\u001b[0m\n\u001b[1;32m      4\u001b[0m     \u001b[0mprint\u001b[0m\u001b[0;34m(\u001b[0m\u001b[0mb\u001b[0m\u001b[0;34m)\u001b[0m\u001b[0;31m#\u001b[0m\u001b[0;34m\u001b[0m\u001b[0;34m\u001b[0m\u001b[0m\n\u001b[1;32m      5\u001b[0m     \u001b[0mb\u001b[0m\u001b[0;34m=\u001b[0m\u001b[0;36m2\u001b[0m\u001b[0;34m\u001b[0m\u001b[0;34m\u001b[0m\u001b[0m\n\u001b[0;32m----> 6\u001b[0;31m \u001b[0mf\u001b[0m\u001b[0;34m(\u001b[0m\u001b[0;36m3\u001b[0m\u001b[0;34m)\u001b[0m\u001b[0;34m\u001b[0m\u001b[0;34m\u001b[0m\u001b[0m\n\u001b[0m\u001b[1;32m      7\u001b[0m \u001b[0;34m\u001b[0m\u001b[0m\n",
      "\u001b[0;32m/var/folders/ty/dsj71tyj60v5x5mrmdh35fwc0000gn/T/ipykernel_98526/3557192031.py\u001b[0m in \u001b[0;36mf\u001b[0;34m(a)\u001b[0m\n\u001b[1;32m      2\u001b[0m \u001b[0;32mdef\u001b[0m \u001b[0mf\u001b[0m\u001b[0;34m(\u001b[0m\u001b[0ma\u001b[0m\u001b[0;34m)\u001b[0m\u001b[0;34m:\u001b[0m\u001b[0;34m\u001b[0m\u001b[0;34m\u001b[0m\u001b[0m\n\u001b[1;32m      3\u001b[0m     \u001b[0mprint\u001b[0m\u001b[0;34m(\u001b[0m\u001b[0ma\u001b[0m\u001b[0;34m)\u001b[0m\u001b[0;34m\u001b[0m\u001b[0;34m\u001b[0m\u001b[0m\n\u001b[0;32m----> 4\u001b[0;31m     \u001b[0mprint\u001b[0m\u001b[0;34m(\u001b[0m\u001b[0mb\u001b[0m\u001b[0;34m)\u001b[0m\u001b[0;31m#\u001b[0m\u001b[0;34m\u001b[0m\u001b[0;34m\u001b[0m\u001b[0m\n\u001b[0m\u001b[1;32m      5\u001b[0m     \u001b[0mb\u001b[0m\u001b[0;34m=\u001b[0m\u001b[0;36m2\u001b[0m\u001b[0;34m\u001b[0m\u001b[0;34m\u001b[0m\u001b[0m\n\u001b[1;32m      6\u001b[0m \u001b[0mf\u001b[0m\u001b[0;34m(\u001b[0m\u001b[0;36m3\u001b[0m\u001b[0;34m)\u001b[0m\u001b[0;34m\u001b[0m\u001b[0;34m\u001b[0m\u001b[0m\n",
      "\u001b[0;31mUnboundLocalError\u001b[0m: local variable 'b' referenced before assignment"
     ]
    }
   ],
   "source": [
    "b = 1\n",
    "def f(a):\n",
    "    print(a)\n",
    "    print(b)#局部变量b还没有绑定任何值\n",
    "    b=2\n",
    "f(3)\n"
   ]
  },
  {
   "cell_type": "code",
   "execution_count": 14,
   "metadata": {},
   "outputs": [
    {
     "name": "stdout",
     "output_type": "stream",
     "text": [
      "3\n",
      "1\n",
      "2\n"
     ]
    }
   ],
   "source": [
    "b=1\n",
    "def f2(a):\n",
    "    global b#把b设为全局变量\n",
    "    print(a)\n",
    "    print(b)\n",
    "    b=2\n",
    "f2(3)\n",
    "print(b)"
   ]
  },
  {
   "cell_type": "code",
   "execution_count": 15,
   "metadata": {},
   "outputs": [
    {
     "name": "stdout",
     "output_type": "stream",
     "text": [
      "  3           0 LOAD_GLOBAL              0 (print)\n",
      "              2 LOAD_FAST                0 (a)\n",
      "              4 CALL_FUNCTION            1\n",
      "              6 POP_TOP\n",
      "\n",
      "  4           8 LOAD_GLOBAL              0 (print)\n",
      "             10 LOAD_FAST                1 (b)\n",
      "             12 CALL_FUNCTION            1\n",
      "             14 POP_TOP\n",
      "\n",
      "  5          16 LOAD_CONST               1 (2)\n",
      "             18 STORE_FAST               1 (b)\n",
      "             20 LOAD_CONST               0 (None)\n",
      "             22 RETURN_VALUE\n"
     ]
    }
   ],
   "source": [
    "from dis import dis\n",
    "dis(f)\n",
    "#LOAD_FAST                1 (b) 先加载局部变量"
   ]
  },
  {
   "cell_type": "markdown",
   "metadata": {},
   "source": [
    "## 7.5闭包\n",
    "1. 闭包含义：在一个内部函数中，对外部作用域的变量进行引用，(并且一般外部函数的返回值为内部函数)，那么内部函数就被认为是闭包。Python考虑到内函数还会引用局部变量，就将局部变量保存到自由变量中。有面向对象的特性"
   ]
  },
  {
   "cell_type": "code",
   "execution_count": 23,
   "metadata": {},
   "outputs": [
    {
     "name": "stdout",
     "output_type": "stream",
     "text": [
      "<function make_averager.<locals>.averager at 0x7fba002e0b80>\n",
      "10.0\n",
      "15.0\n",
      "('new_value', 'total')\n",
      "('series',)\n",
      "[10, 20]\n"
     ]
    }
   ],
   "source": [
    "def make_averager():\n",
    "    series = []\n",
    "    def averager(new_value):\n",
    "        series.append(new_value)\n",
    "        total = sum(series)\n",
    "        return total/len(series)\n",
    "\n",
    "    return averager\n",
    "\n",
    "avg = make_averager()\n",
    "print(avg)#avg 为内部函数averag的引用\n",
    "print(avg(10))\n",
    "print(avg(20))\n",
    "print(avg.__code__.co_varnames)#new_value total 保存在局部变量中\n",
    "print(avg.__code__.co_freevars)#series变量没有释放，而是保存在自由变量中\n",
    "print(avg.__closure__[0].cell_contents)#自由变量的值保存在函数__closure__中"
   ]
  },
  {
   "cell_type": "markdown",
   "metadata": {},
   "source": [
    "## 7.5 nonlocal声明\n",
    "1. 若在内函数中重新绑定外部函数的局部变量（赋值操作），会导致该变量无法成为自由变量，不会保存在闭包中（参照7.4变量作用域）\n",
    "## 7.6\n",
    "1. nonlocal可以将变量标记为自由变量，即便重新赋值也会变成自由变量（类比gobal）"
   ]
  },
  {
   "cell_type": "code",
   "execution_count": 24,
   "metadata": {},
   "outputs": [
    {
     "name": "stdout",
     "output_type": "stream",
     "text": [
      "10.0\n",
      "('new_value',)\n",
      "('count', 'total')\n",
      "1\n"
     ]
    }
   ],
   "source": [
    "def make_averager():\n",
    "    count = 0\n",
    "    total = 0\n",
    "    def averager(new_value):\n",
    "        nonlocal count,total#若不声明则会提示没有count、total变量，因为前面已经释放了\n",
    "        count += 1\n",
    "        total += new_value\n",
    "        return total/count\n",
    "    return averager\n",
    "avg = make_averager()\n",
    "print(avg(10))\n",
    "print(avg.__code__.co_varnames)\n",
    "print(avg.__code__.co_freevars)#count、total 保存在自由变量中\n",
    "print(avg.__closure__[0].cell_contents)#自由变量的值保存在函数__closure__中"
   ]
  },
  {
   "cell_type": "markdown",
   "metadata": {},
   "source": [
    "## 7.7 实现函数计时装饰器\n",
    "1. functools.wraps 可以将被装饰的函数的_\\_name__ _\\_doc__等属性传递给装饰器的闭包函数中，并能处理关键字参数"
   ]
  },
  {
   "cell_type": "code",
   "execution_count": 47,
   "metadata": {},
   "outputs": [
    {
     "name": "stdout",
     "output_type": "stream",
     "text": [
      "1\n",
      "[0.00004625s] fun_a(1) -> None\n",
      "<function clock.<locals>.clocked at 0x7fba002f8310>\n",
      "clocked\n",
      "计算函数运行时间 \n",
      "None\n"
     ]
    }
   ],
   "source": [
    "import time\n",
    "def clock(func):\n",
    "    def clocked(*args,**kwargs):\n",
    "        \"\"\"计算函数运行时间 \"\"\"\n",
    "        t0 = time.time()\n",
    "        result = func(*args)\n",
    "        elapsed = time.time() - t0\n",
    "        name = func.__name__\n",
    "        arg_str = ', '.join(repr(arg) for arg in args)\n",
    "        print('[%0.8fs] %s(%s) -> %r' % (elapsed, name, arg_str, result))\n",
    "        pari = ['%s=%r' %(k,w) for k,w in sorted(kwargs.items())]#处理关键参数\n",
    "        print(','.join(pari))\n",
    "        return result\n",
    "    return clocked\n",
    "\n",
    "@clock\n",
    "def fun_a(n,keyt=2):\n",
    "    \"\"\" 打印参数 \"\"\"\n",
    "    print(n)\n",
    "fun_a(1)\n",
    "print(fun_a)\n",
    "print(fun_a.__name__)\n",
    "print(fun_a.__doc__)#fun_a函数的属性被clocked覆盖"
   ]
  },
  {
   "cell_type": "code",
   "execution_count": 58,
   "metadata": {},
   "outputs": [
    {
     "name": "stdout",
     "output_type": "stream",
     "text": [
      "1\n",
      "[0.00021195s] fun_b(1) -> None\n",
      "keyt=10\n",
      "<function fun_b at 0x7fba002f8ca0>\n",
      "fun_b\n",
      " 打印参数 \n"
     ]
    }
   ],
   "source": [
    "import time,functools\n",
    "def clock(func):\n",
    "    @functools.wraps(func)#functools.wraps 装饰器把相关的属性从 func 复制到 clocked 中。\n",
    "    def clocked(*args,**kwargs):\n",
    "        \"\"\"计算函数运行时间 \"\"\"\n",
    "        t0 = time.time()\n",
    "        result = func(*args)\n",
    "        elapsed = time.time() - t0\n",
    "        name = func.__name__\n",
    "        arg_str = ', '.join(repr(arg) for arg in args)\n",
    "        print('[%0.8fs] %s(%s) -> %r' % (elapsed, name, arg_str, result))\n",
    "        pari = ['%s=%r' %(k,w) for k,w in sorted(kwargs.items())]\n",
    "        print(','.join(pari))\n",
    "        return result\n",
    "    return clocked\n",
    "\n",
    "@clock\n",
    "def fun_b(n,keyt=2):\n",
    "    \"\"\" 打印参数 \"\"\"\n",
    "    print(n)\n",
    "fun_b(1,keyt=10)\n",
    "print(fun_b)\n",
    "print(fun_b.__name__)\n",
    "print(fun_b.__doc__)#属性均未变"
   ]
  },
  {
   "cell_type": "markdown",
   "metadata": {},
   "source": [
    "## 7.8标准库中的装饰器\n",
    "1. functools.lru_rache，可以实现备忘录功能，将函数结果缓存起来，避免重复计算，缓存不会无限制增长，一段时间不用的缓存条目就会被丢掉\n",
    "    + functools.1ru_cache(maxsize=128, typed=False)，\n",
    "    + maxsize——存储多少个调用结果，\n",
    "    + typed 是否将不同参数类型得到的结果分开保存。如1 和 1.0\n",
    "    + lru_cache使用字典存储结果，键值根据传入的定位参数和关键字参数创建，要求lru_cache装饰的函数，参数是可散列的（不变类型）"
   ]
  },
  {
   "cell_type": "code",
   "execution_count": 65,
   "metadata": {},
   "outputs": [
    {
     "name": "stdout",
     "output_type": "stream",
     "text": [
      "[0.00000000s] fibonacci(0) -> 0\n",
      "\n",
      "[0.00000000s] fibonacci(1) -> 1\n",
      "\n",
      "[0.00011063s] fibonacci(2) -> 1\n",
      "\n",
      "[0.00000000s] fibonacci(1) -> 1\n",
      "\n",
      "[0.00000119s] fibonacci(0) -> 0\n",
      "\n",
      "[0.00000095s] fibonacci(1) -> 1\n",
      "\n",
      "[0.00068212s] fibonacci(2) -> 1\n",
      "\n",
      "[0.00075006s] fibonacci(3) -> 2\n",
      "\n",
      "[0.00095010s] fibonacci(4) -> 3\n",
      "\n",
      "3\n"
     ]
    }
   ],
   "source": [
    "@clock\n",
    "def fibonacci(n):\n",
    "    if n<2: \n",
    "        return n\n",
    "    return fibonacci(n-2) + fibonacci(n-1)\n",
    "print(fibonacci(4))"
   ]
  },
  {
   "cell_type": "code",
   "execution_count": 64,
   "metadata": {},
   "outputs": [
    {
     "name": "stdout",
     "output_type": "stream",
     "text": [
      "[0.00000000s] fibonacci(0) -> 0\n",
      "\n",
      "[0.00000095s] fibonacci(1) -> 1\n",
      "\n",
      "[0.00030804s] fibonacci(2) -> 1\n",
      "\n",
      "[0.00000119s] fibonacci(3) -> 2\n",
      "\n",
      "[0.00039291s] fibonacci(4) -> 3\n",
      "\n",
      "3\n"
     ]
    }
   ],
   "source": [
    "import functools\n",
    "@functools.lru_cache()\n",
    "@clock\n",
    "def fibonacci(n):\n",
    "    if n<2: \n",
    "        return n\n",
    "    return fibonacci(n-2) + fibonacci(n-1)\n",
    "print(fibonacci(4))#重复参数的函数调用不会再计算结果"
   ]
  },
  {
   "cell_type": "markdown",
   "metadata": {},
   "source": [
    "2. [functools.singledispath](https://peps.python.org/pep-0443)——单分派泛函数。类比重载方法和函数，可接受不同类型参数，处理方式也随之不同"
   ]
  },
  {
   "cell_type": "code",
   "execution_count": 3,
   "metadata": {},
   "outputs": [
    {
     "name": "stdout",
     "output_type": "stream",
     "text": [
      "THis is int or list\n"
     ]
    }
   ],
   "source": [
    "import functools\n",
    "import numbers\n",
    "from collections import abc\n",
    "@functools.singledispatch\n",
    "def base_fun(obj):\n",
    "    print(\"This is a objection\")\n",
    "@base_fun.register(str)\n",
    "def _(text):\n",
    "    print(\"This is string %s\" %text)\n",
    "\n",
    "@base_fun.register(abc.MutableSequence)#可接收两种参数\n",
    "@base_fun.register(numbers.Integral)\n",
    "def _(n):\n",
    "    print(\"THis is int or list\")\n",
    "\n",
    "base_fun([1])"
   ]
  },
  {
   "cell_type": "markdown",
   "metadata": {},
   "source": [
    "## 7.9叠放装饰器\n",
    "1. 即多个装饰器可按顺序应用到一个函数上\n",
    "    ```\n",
    "    @d1\n",
    "    @d2\n",
    "    def fun():\n",
    "        pass\n",
    "    ```\n",
    "    等同于fun = d1(d2(fun))"
   ]
  },
  {
   "cell_type": "markdown",
   "metadata": {},
   "source": [
    "## 7.10参数化装饰器\n",
    "1. 装饰器如何接收除被装饰函数以外的其他参数？————创建装饰器工厂函数，传参给装饰器（闭包原理，参数存在自由变量中）"
   ]
  },
  {
   "cell_type": "code",
   "execution_count": 36,
   "metadata": {},
   "outputs": [
    {
     "name": "stdout",
     "output_type": "stream",
     "text": [
      "fun_a\n"
     ]
    }
   ],
   "source": [
    "def decorate_factory(flag=True):\n",
    "    def decorate(fun):\n",
    "        if flag:\n",
    "            print(fun.__name__)\n",
    "        return fun\n",
    "    return decorate\n",
    "@decorate_factory()\n",
    "def fun_a():\n",
    "    print(\"fun_a\")\n",
    "@decorate_factory(False)\n",
    "def fun_b():\n",
    "    print(\"fun_b\")"
   ]
  },
  {
   "cell_type": "code",
   "execution_count": 35,
   "metadata": {},
   "outputs": [
    {
     "name": "stdout",
     "output_type": "stream",
     "text": [
      "fun_b\n",
      "('flag',)\n"
     ]
    }
   ],
   "source": [
    "temp = decorate_factory(True)\n",
    "temp(fun_b)\n",
    "print(temp.__code__.co_freevars)#装饰器工厂函数的flag被放在自由变量中让参数器使用\n",
    "print(temp)"
   ]
  },
  {
   "cell_type": "markdown",
   "metadata": {},
   "source": [
    "## 参考文档\n",
    "\n",
    "wrapt/README.md at develop · GrahamDumpleton/wrapt\n",
    "https://github.com/GrahamDumpleton/wrapt/blob/develop/blog/README.md\n",
    "\n",
    "wrapt/01-how-you-implemented-your-python-decorator-is-wrong.md at develop · GrahamDumpleton/wrapt\n",
    "https://github.com/GrahamDumpleton/wrapt/blob/develop/blog/01-how-you-implemented-your-python-decorator-is-wrong.md\n",
    "\n",
    "wrapt — wrapt 1.13.0rc2 documentation\n",
    "https://wrapt.readthedocs.io/en/latest/\n",
    "\n",
    "decorator · PyPI\n",
    "https://pypi.org/project/decorator/\n",
    "\n",
    "PythonDecoratorLibrary - Python Wiki\n",
    "https://wiki.python.org/moin/PythonDecoratorLibrary\n",
    "\n"
   ]
  }
 ],
 "metadata": {
  "interpreter": {
   "hash": "ac4f8d55ec42a5fdb4a75a40116202f3e8965960f96100e67dac118307178370"
  },
  "kernelspec": {
   "display_name": "Python 3.9.7 ('base')",
   "language": "python",
   "name": "python3"
  },
  "language_info": {
   "codemirror_mode": {
    "name": "ipython",
    "version": 3
   },
   "file_extension": ".py",
   "mimetype": "text/x-python",
   "name": "python",
   "nbconvert_exporter": "python",
   "pygments_lexer": "ipython3",
   "version": "3.9.7"
  },
  "orig_nbformat": 4
 },
 "nbformat": 4,
 "nbformat_minor": 2
}
