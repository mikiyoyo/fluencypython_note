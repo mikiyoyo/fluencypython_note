{
 "cells": [
  {
   "cell_type": "markdown",
   "metadata": {},
   "source": [
    "# 8.对象引用、可变性和垃圾回收\n",
    "## 8.1 变量不是盒子\n",
    "1. 变量不是盒子————变量不存放对象，只是对象的标记、引用\n",
    "2. 对于a = 1，赋值语句，右边先执行，若右边出错，则不会创建变量"
   ]
  },
  {
   "cell_type": "code",
   "execution_count": 1,
   "metadata": {},
   "outputs": [
    {
     "name": "stdout",
     "output_type": "stream",
     "text": [
      "gizmo id:140300481035952\n",
      "gizmo id:140300481035520\n"
     ]
    },
    {
     "ename": "TypeError",
     "evalue": "unsupported operand type(s) for *: 'Gizmo' and 'int'",
     "output_type": "error",
     "traceback": [
      "\u001b[0;31m---------------------------------------------------------------------------\u001b[0m",
      "\u001b[0;31mTypeError\u001b[0m                                 Traceback (most recent call last)",
      "\u001b[0;32m/var/folders/ty/dsj71tyj60v5x5mrmdh35fwc0000gn/T/ipykernel_96650/688154814.py\u001b[0m in \u001b[0;36m<module>\u001b[0;34m\u001b[0m\n\u001b[1;32m      3\u001b[0m         \u001b[0mprint\u001b[0m\u001b[0;34m(\u001b[0m\u001b[0;34m\"gizmo id:%d\"\u001b[0m \u001b[0;34m%\u001b[0m\u001b[0mid\u001b[0m\u001b[0;34m(\u001b[0m\u001b[0mself\u001b[0m\u001b[0;34m)\u001b[0m\u001b[0;34m)\u001b[0m\u001b[0;31m#返回对象id值\u001b[0m\u001b[0;34m\u001b[0m\u001b[0;34m\u001b[0m\u001b[0m\n\u001b[1;32m      4\u001b[0m \u001b[0mx\u001b[0m \u001b[0;34m=\u001b[0m \u001b[0mGizmo\u001b[0m\u001b[0;34m(\u001b[0m\u001b[0;34m)\u001b[0m\u001b[0;34m\u001b[0m\u001b[0;34m\u001b[0m\u001b[0m\n\u001b[0;32m----> 5\u001b[0;31m \u001b[0my\u001b[0m \u001b[0;34m=\u001b[0m \u001b[0mGizmo\u001b[0m\u001b[0;34m(\u001b[0m\u001b[0;34m)\u001b[0m\u001b[0;34m*\u001b[0m\u001b[0;36m2\u001b[0m\u001b[0;34m\u001b[0m\u001b[0;34m\u001b[0m\u001b[0m\n\u001b[0m\u001b[1;32m      6\u001b[0m \u001b[0mprint\u001b[0m\u001b[0;34m(\u001b[0m\u001b[0mdir\u001b[0m\u001b[0;34m(\u001b[0m\u001b[0;34m)\u001b[0m\u001b[0;34m)\u001b[0m\u001b[0;34m\u001b[0m\u001b[0;34m\u001b[0m\u001b[0m\n",
      "\u001b[0;31mTypeError\u001b[0m: unsupported operand type(s) for *: 'Gizmo' and 'int'"
     ]
    }
   ],
   "source": [
    "class Gizmo:\n",
    "    def __init__(self):\n",
    "        print(\"gizmo id:%d\" %id(self))#返回对象id值\n",
    "x = Gizmo()\n",
    "y = Gizmo()*2\n"
   ]
  },
  {
   "cell_type": "code",
   "execution_count": 4,
   "metadata": {},
   "outputs": [
    {
     "name": "stdout",
     "output_type": "stream",
     "text": [
      "['Gizmo', 'In', 'Out', '_', '__', '___', '__builtin__', '__builtins__', '__doc__', '__loader__', '__name__', '__package__', '__spec__', '__vsc_ipynb_file__', '_dh', '_i', '_i1', '_i2', '_i3', '_i4', '_ih', '_ii', '_iii', '_oh', 'exit', 'get_ipython', 'os', 'quit', 'sys', 'x']\n"
     ]
    }
   ],
   "source": [
    "print(dir())#变量y未创建成功"
   ]
  },
  {
   "cell_type": "markdown",
   "metadata": {},
   "source": [
    "## 8.2 标识、相等性和别名\n",
    "1. 别名指不同变量名绑定同一个对象，他们的标识（ID）也一样\n",
    "2. 若不同变量绑定的对象不一样，即便对象值相同，标识也不同"
   ]
  },
  {
   "cell_type": "code",
   "execution_count": 4,
   "metadata": {},
   "outputs": [
    {
     "name": "stdout",
     "output_type": "stream",
     "text": [
      "别名，标识相同 True\n",
      "False\n"
     ]
    }
   ],
   "source": [
    "a = [1,2,3]\n",
    "b= a\n",
    "c = [1,2,3]\n",
    "print(\"别名，标识相同\",a is b)\n",
    "print(c is a)"
   ]
  },
  {
   "cell_type": "markdown",
   "metadata": {},
   "source": [
    "3. is 运算速度比==快，== 实现对象的_\\_eq__方法\n",
    "3. 元组相对不可变性，元组本身不可变，元素可变（即元组的物理内容保存的引用不可变，与引用的对象无关）"
   ]
  },
  {
   "cell_type": "code",
   "execution_count": 7,
   "metadata": {},
   "outputs": [
    {
     "name": "stdout",
     "output_type": "stream",
     "text": [
      "True\n",
      "140421945578560\n",
      "[30, 40, 99] 140421945578560\n",
      "False\n"
     ]
    }
   ],
   "source": [
    "t1 = (1,2,[30,40])\n",
    "t2 = (1,2,[30,40])\n",
    "print(t1==t2)\n",
    "print(id(t1[-1]))\n",
    "t1[-1].append(99)\n",
    "print(t1[-1],id(t1[-1]))# 元组内引用元素的标识不变\n",
    "print(t1==t2)"
   ]
  },
  {
   "cell_type": "markdown",
   "metadata": {},
   "source": [
    "## 8.3 浅复制\n",
    "1. list()、[:]只是对列表进行浅复制，复制初始列表的引用，只能用于初始列表中的元素都为不可变元素，否则其中一个表可变元素发生改变，其他表相应元素也会改变，互相影响\n",
    "2. copy模块\n",
    "    + copy.copy() 浅复制\n",
    "    + copy.deepcopy()深复制 PS:注意不能有循环引用\n"
   ]
  },
  {
   "cell_type": "code",
   "execution_count": 13,
   "metadata": {},
   "outputs": [
    {
     "name": "stdout",
     "output_type": "stream",
     "text": [
      "140421945579072 140421945579072\n",
      "[3, 4, 0] [3, 4, 0]\n",
      "[3, 4, 0, -1] [3, 4, 0, -1]\n",
      "140421813804928 140421813804928\n",
      "140421813804928 140421014175888\n",
      "(5, 6) (5, 6, 7, 8)\n"
     ]
    }
   ],
   "source": [
    "a = [1,2,[3,4],(5,6)]\n",
    "b = list(a)\n",
    "print(id(a[2]),id(b[2]))\n",
    "a[2].append(0)\n",
    "print(a[2],b[2])\n",
    "b[2].append(-1)\n",
    "print(a[2],b[2])\n",
    "\n",
    "\n",
    "print(id(a[3]),id(b[3]))\n",
    "b[3] += (7,8)\n",
    "print(id(a[3]),id(b[3]))\n",
    "print(a[3],b[3])#元组是不可变类型，不会互相影响\n"
   ]
  },
  {
   "cell_type": "markdown",
   "metadata": {},
   "source": [
    "## 8.4 函数的参数作为引用时\n",
    "1. 共享传参指函数的各个形式参数获得实参中各个引用的副本。也就是说，函数内部的形参是实参的别名。PS：当传入可变对象时，注意函数内对形参的操作，可能影响到函数体外的实参\n",
    "2. 不要使用可变类型作为参数的默认值 PS：使用可变类型作为参数的默认值，每次运行函数对该默认参数的操作结果会保留下来，影响到下一次调用函数的结果\n",
    "3. 如果定义的函数接收可变参数，应该谨慎考虑调用方是否期望修改传入的参数"
   ]
  },
  {
   "cell_type": "code",
   "execution_count": 19,
   "metadata": {},
   "outputs": [
    {
     "name": "stdout",
     "output_type": "stream",
     "text": [
      "[1]\n",
      "[1, 1]\n",
      "[1, 1, 1]\n",
      "([1, 1, 1],)\n"
     ]
    }
   ],
   "source": [
    "def temp(a = []):\n",
    "    a.append(1)\n",
    "    print(a)\n",
    "temp()\n",
    "temp()\n",
    "temp()\n",
    "print(temp.__defaults__)#默认参数把结果保留了下来"
   ]
  },
  {
   "cell_type": "markdown",
   "metadata": {},
   "source": [
    "## 8.5 del和垃圾回收\n",
    "1. 当对象引用归零时，对象会被销毁，释放内存\n",
    "2. del不删除对象，删除对象的引用。"
   ]
  },
  {
   "cell_type": "code",
   "execution_count": 21,
   "metadata": {},
   "outputs": [
    {
     "name": "stdout",
     "output_type": "stream",
     "text": [
      "True\n",
      "True\n",
      "The object was destroyed!\n",
      "False\n"
     ]
    }
   ],
   "source": [
    "import weakref\n",
    "s1 = {1,2,3}\n",
    "s2 = s1\n",
    "def bye():\n",
    "    print(\"The object was destroyed!\")\n",
    "\n",
    "ender = weakref.finalize(s1,bye)#绑定弱引用\n",
    "print(ender.alive)\n",
    "del s1#删除s1，对象任然存活\n",
    "print(ender.alive)\n",
    "s2 = '1'\n",
    "print(ender.alive)"
   ]
  },
  {
   "cell_type": "markdown",
   "metadata": {},
   "source": [
    "3. 弱引用不会增加对象的引用数量，引用的目标对象称为所指对象。不会影响对象的销毁"
   ]
  },
  {
   "cell_type": "code",
   "execution_count": 22,
   "metadata": {},
   "outputs": [
    {
     "name": "stdout",
     "output_type": "stream",
     "text": [
      "{0, 1}\n",
      "None\n"
     ]
    }
   ],
   "source": [
    "import weakref\n",
    "a_set = {0,1}\n",
    "wref = weakref.ref(a_set)#创建弱引用\n",
    "print(wref())\n",
    "a_set = {2,3}\n",
    "print(wref())\n"
   ]
  }
 ],
 "metadata": {
  "interpreter": {
   "hash": "ac4f8d55ec42a5fdb4a75a40116202f3e8965960f96100e67dac118307178370"
  },
  "kernelspec": {
   "display_name": "Python 3.9.7 ('base')",
   "language": "python",
   "name": "python3"
  },
  "language_info": {
   "codemirror_mode": {
    "name": "ipython",
    "version": 3
   },
   "file_extension": ".py",
   "mimetype": "text/x-python",
   "name": "python",
   "nbconvert_exporter": "python",
   "pygments_lexer": "ipython3",
   "version": "3.9.7"
  },
  "orig_nbformat": 4
 },
 "nbformat": 4,
 "nbformat_minor": 2
}
