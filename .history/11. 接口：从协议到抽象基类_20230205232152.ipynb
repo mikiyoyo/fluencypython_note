{
 "cells": [
  {
   "cell_type": "markdown",
   "metadata": {},
   "source": []
  },
  {
   "cell_type": "code",
   "execution_count": null,
   "metadata": {},
   "outputs": [
    {
     "ename": "",
     "evalue": "",
     "output_type": "error",
     "traceback": [
      "\u001b[1;31mFailed to start the Kernel. \n",
      "\u001b[1;31mActivating extension 'ms-python.python' failed: TelemetrySender.sendEventData must be a function. \n",
      "\u001b[1;31mView Jupyter <a href='command:jupyter.viewOutput'>log</a> for further details."
     ]
    }
   ],
   "source": [
    "import collections\n",
    "Card = collections. namedtuple('Card', ['rank', 'suit'])\n",
    "class FrenchDeck:\n",
    "    ranks = [str(n) for n in range(2, 11)] + list(\"JQKA\")\n",
    "    suits = 'spades diamonds clubs hearts'.split()\n",
    "    \n",
    "    def_init_(self):\n",
    "        self.cards = [Card(rank, suit) for suit in self.suits\n",
    "                                    for rank in self.ranks]\n",
    "    def_len(self):\n",
    "        return len(self. cards)\n",
    "    def getitem_(self, position):\n",
    "        return self.cards [position]"
   ]
  }
 ],
 "metadata": {
  "kernelspec": {
   "display_name": "base",
   "language": "python",
   "name": "python3"
  },
  "language_info": {
   "name": "python",
   "version": "3.9.7 (default, Sep 16 2021, 08:50:36) \n[Clang 10.0.0 ]"
  },
  "orig_nbformat": 4,
  "vscode": {
   "interpreter": {
    "hash": "ac4f8d55ec42a5fdb4a75a40116202f3e8965960f96100e67dac118307178370"
   }
  }
 },
 "nbformat": 4,
 "nbformat_minor": 2
}
