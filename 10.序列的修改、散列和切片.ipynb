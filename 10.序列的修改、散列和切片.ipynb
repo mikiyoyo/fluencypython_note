{
 "cells": [
  {
   "cell_type": "markdown",
   "metadata": {},
   "source": [
    "# 10 序列的修改、散列和切片\n",
    "1. 基本方法 \\_\\_len\\_\\_  \\_\\_getitem\\_\\_ \\_\\_getattr\\_\\_\n",
    "\n",
    "## 10.1\n",
    "1. 序列类型的构造方法最好接受可迭代的对象为参数\n",
    "\n",
    "## 10.3协议和鸭子类型([duck typing](https://zh.m.wikipedia.org/zh/鸭子类型))\n",
    "1. 鸭子类型：需要什么就用什么，不一定要必须从类中继承\n",
    "2. Python中要实现序列协议只需要实现\\_\\_len\\_\\_、\\_\\_getitem\\_\\_两个方法\n",
    "\n",
    "## 10.4 可切片序列\n",
    "1. getitem方法接收\"[1:4]\"这类参数，会转为切片。\n",
    "2. 切片slice类，indices方法用于处理缺失索引和负数索引，以及长度超过目标序列的切片\n",
    "\n",
    "## 10.5 动态存取属性，getattr、setattr方法使用\n",
    "1. 对my_obj.x 表达式，Python会检查my_obj实例有没有名为x的属性；如果没有，到类（my_obj.\\_\\_class\\_\\_）中查找：如果还没有，顺着继承树继续查找。如果依旧找不到，调用my_obj 所属类中定义的__getattr__方法，传入 self 和属性名称的字符串形式（如'x'）\n",
    "2. 通过getattr方法，可以实现通过别名获取实例的属性。如向量中，通过v.x获取v[0]值\n",
    "3. 通过setattr方法，可以限制个别属性的赋值。super().\\_\\_setattr\\_\\_(name, value)\n",
    "4. 实现了getattr方法也要定义setattr方法，以防对象的行为不一致\n",
    "\n",
    "## 10.6 快速等值\n",
    "1. zip函数,将可迭代对象作为参数，将对象中的元素打包成元组\n",
    "2. chain函数，将多个可迭代对象按顺序组合成一个\n",
    "\n",
    "## 10.7 实现球面坐标的格式化"
   ]
  },
  {
   "cell_type": "code",
   "execution_count": 54,
   "metadata": {},
   "outputs": [
    {
     "name": "stdout",
     "output_type": "stream",
     "text": [
      "(0, 5, 2)\n",
      "(2, 5, 1)\n"
     ]
    }
   ],
   "source": [
    "print(slice(None,10,2).indices(5))\n",
    "print(slice(-3,None,None).indices(5))"
   ]
  },
  {
   "cell_type": "code",
   "execution_count": 47,
   "metadata": {},
   "outputs": [],
   "source": [
    "from array import array\n",
    "import reprlib\n",
    "import math,numbers\n",
    "import functools,operator\n",
    "class Vector:\n",
    "    typecode = 'd'\n",
    "    def __init__(self, _components) -> None:\n",
    "        #_components 表示该属性受保护\n",
    "        self._components = array(self.typecode, _components)\n",
    "    \n",
    "    def __iter__(self):\n",
    "        # 把vector实例变成可迭代对象，通过self._components构建得带器\n",
    "        return iter(self._components)\n",
    "    \n",
    "    def __repr__(self) -> str:\n",
    "        # reprlib.repr函数可以获取self._components有长度的表示形式，如：array('d', [0.0, 1.0, 2.0, 3.0, 4.0,...])\n",
    "        _components = reprlib.repr(self._components)\n",
    "        #只取元素，去除标识符array('d', )\n",
    "        _components = _components[_components.find('[') : -1]\n",
    "        return 'Vector({})'.format(_components)\n",
    "    \n",
    "    def __str__(self):\n",
    "        #这里tuple()函数会从可迭代的vector实例中得到元组（需要实现iter方法）\n",
    "        return str(tuple(self))\n",
    "    \n",
    "    def __bytes__(self):\n",
    "        return (bytes([ord(self.typecode)]) + bytes(self._components))\n",
    "\n",
    "#10.6\n",
    "    def __eq__(self, other):\n",
    "        # 相等条件：对象长度一样、每个属性相等\n",
    "        return (len(self) == len(other) and\n",
    "                all(a == b for a, b in zip(self, other)))\n",
    "\n",
    "    def __hash__(self):\n",
    "        hashes = (hash(x) for x in self)\n",
    "        return functools.reduce(operator.xor, hashes, 0)\n",
    "\n",
    "\n",
    "    def __abs__(self):\n",
    "        #计算向量的绝对值\n",
    "        return math.sqrt(sum(x for x in self))\n",
    "    \n",
    "    def __bool__(self):\n",
    "        return bool(abs(self))\n",
    "    \n",
    "    def __len__(self):\n",
    "        return len(self._components)\n",
    "#10.4\n",
    "    def __getitem__(self, index):\n",
    "        cls = type(self)\n",
    "        # 判断类型，如果为切片，返回序列\n",
    "        if isinstance(index,slice):\n",
    "            return cls(self._components[index])\n",
    "        # 为数字，返回元素\n",
    "        elif isinstance(index, numbers.Inergral):\n",
    "            return self._components[index]\n",
    "        else:\n",
    "        # 否则报类型错误\n",
    "            msg = '{cls.__name__} indices must be integers'\n",
    "            raise TypeError(msg.format(cls=cls))\n",
    "# 10.5\n",
    "# BEGIN VECTOR_V3_GETATTR\n",
    "    #创建映射关系，v.x<-->v[0]\n",
    "    shortcut_names = 'xyzt'\n",
    "\n",
    "    def __getattr__(self, name):\n",
    "        cls = type(self)  # <1>\n",
    "        if len(name) == 1:  # <2>\n",
    "            pos = cls.shortcut_names.find(name)  # <3>\n",
    "            if 0 <= pos < len(self._components):  # <4>若未越界则返回元素\n",
    "                return self._components[pos]\n",
    "        msg = '{.__name__!r} object has no attribute {!r}'  # <5>\n",
    "        raise AttributeError(msg.format(cls, name))\n",
    "# END VECTOR_V3_GETATTR\n",
    "\n",
    "# BEGIN VECTOR_V3_SETATTR\n",
    "    def __setattr__(self, name, value):\n",
    "        cls = type(self)\n",
    "        if len(name) == 1:  # <1>\n",
    "            if name in cls.shortcut_names:  # <2>映射表以及小写字母的中属性禁止直接赋值\n",
    "                error = 'readonly attribute {attr_name!r}'\n",
    "            elif name.islower():  # <3>\n",
    "                error = \"can't set attributes 'a' to 'z' in {cls_name!r}\"\n",
    "            else:\n",
    "                error = ''  # <4>\n",
    "            if error:  # <5>\n",
    "                msg = error.format(cls_name=cls.__name__, attr_name=name)\n",
    "                raise AttributeError(msg)\n",
    "        super().__setattr__(name, value)  # <6>在超类上调用 setattr__方法，提供标准行为。\n",
    "    \n",
    "    @classmethod\n",
    "    def frombytes(cls, octets):\n",
    "        # 获取二进制对象，转换为向量类\n",
    "        typecode = chr(octets[0])\n",
    "        memv = memoryview(octets[1:]).cast(typecode)\n",
    "        return cls(memv)"
   ]
  },
  {
   "cell_type": "code",
   "execution_count": 49,
   "metadata": {},
   "outputs": [
    {
     "name": "stdout",
     "output_type": "stream",
     "text": [
      "Vector([1.0, 2.0, 3.0, 4.0, 11.0, ...])\n",
      "(1.0, 2.0, 3.0, 4.0, 11.0, 5.0, 6.0, 7.0, 8.0)\n",
      "b'd\\x00\\x00\\x00\\x00\\x00\\x00\\xf0?\\x00\\x00\\x00\\x00\\x00\\x00\\x00@\\x00\\x00\\x00\\x00\\x00\\x00\\x08@\\x00\\x00\\x00\\x00\\x00\\x00\\x10@\\x00\\x00\\x00\\x00\\x00\\x00&@\\x00\\x00\\x00\\x00\\x00\\x00\\x14@\\x00\\x00\\x00\\x00\\x00\\x00\\x18@\\x00\\x00\\x00\\x00\\x00\\x00\\x1c@\\x00\\x00\\x00\\x00\\x00\\x00 @'\n",
      "True\n",
      "1.0\n",
      "9\n"
     ]
    }
   ],
   "source": [
    "a = Vector([1,2,3,4,11,5,6,7,8])\n",
    "print(repr(a))\n",
    "print(str(a))\n",
    "print(bytes(a))\n",
    "b = Vector.frombytes(bytes(a))\n",
    "print(a == b)\n",
    "print(a[0])\n",
    "print(len(a))"
   ]
  }
 ],
 "metadata": {
  "kernelspec": {
   "display_name": "Python 3 (ipykernel)",
   "language": "python",
   "name": "python3"
  },
  "language_info": {
   "codemirror_mode": {
    "name": "ipython",
    "version": 3
   },
   "file_extension": ".py",
   "mimetype": "text/x-python",
   "name": "python",
   "nbconvert_exporter": "python",
   "pygments_lexer": "ipython3",
   "version": "3.9.7"
  },
  "vscode": {
   "interpreter": {
    "hash": "ac4f8d55ec42a5fdb4a75a40116202f3e8965960f96100e67dac118307178370"
   }
  }
 },
 "nbformat": 4,
 "nbformat_minor": 2
}
