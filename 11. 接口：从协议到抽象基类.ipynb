{
 "cells": [
  {
   "attachments": {},
   "cell_type": "markdown",
   "metadata": {},
   "source": [
    "# 11. 接口：从协议到抽象基类\n",
    "## 11.2 Python序列更易于使用和实现\n",
    "1. 定义了\\_\\_getitem\\_\\_ 方法，实现了序列协议的一部分但也足以访问元素、迭代和in运算符。Python会调用getitem方法来智能实现iter、contain方法，来使得序列可以\n",
    "## 11.3使用猴子补丁在运行时实现协议\n",
    "1. [猴子补丁](https://zh.wikipedia.org/wiki/猴补丁)是一种编程技巧，用拼凑代码的方法修改程序逻辑\n",
    "2. "
   ]
  },
  {
   "cell_type": "code",
   "execution_count": 1,
   "metadata": {},
   "outputs": [],
   "source": [
    "import collections\n",
    "Card = collections. namedtuple('Card', ['rank', 'suit'])\n",
    "class FrenchDeck:\n",
    "    ranks = [str(n) for n in range(2, 11)] + list(\"JQKA\")\n",
    "    suits = 'spades diamonds clubs hearts'.split()\n",
    "    def _init_(self):\n",
    "        self.cards = [Card(rank, suit) for suit in self.suits\n",
    "        for rank in self.ranks]\n",
    "    def _len(self):\n",
    "        return len(self. cards)\n",
    "    def __getitem_(self, position):\n",
    "        return self.cards [position]"
   ]
  }
 ],
 "metadata": {
  "kernelspec": {
   "display_name": "base",
   "language": "python",
   "name": "python3"
  },
  "language_info": {
   "codemirror_mode": {
    "name": "ipython",
    "version": 3
   },
   "file_extension": ".py",
   "mimetype": "text/x-python",
   "name": "python",
   "nbconvert_exporter": "python",
   "pygments_lexer": "ipython3",
   "version": "3.9.7"
  },
  "orig_nbformat": 4,
  "vscode": {
   "interpreter": {
    "hash": "ac4f8d55ec42a5fdb4a75a40116202f3e8965960f96100e67dac118307178370"
   }
  }
 },
 "nbformat": 4,
 "nbformat_minor": 2
}
