{
 "cells": [
  {
   "cell_type": "markdown",
   "metadata": {},
   "source": [
    "# 9符合Python风格的对象\n",
    "## 9.1对象表现形式\n",
    "1. 对象字符串表示形式\n",
    "    + repr()——对象的_\\_repr__方法，以便于开发者理解的方式返回对象的字符串表示形式。\n",
    "    + str()——对象的_\\_str__方式，以便于用户理解的方式返回对象的字符串表示形式。\n",
    "    + bytes()——对象的_\\_bytes__方法，生成实例的二进制表达形式\n"
   ]
  },
  {
   "cell_type": "code",
   "execution_count": 3,
   "metadata": {},
   "outputs": [],
   "source": [
    "\n",
    "from array import array\n",
    "import math\n",
    "\n",
    "\n",
    "class Vector2d:\n",
    "    typecode = 'd'\n",
    "\n",
    "    def __init__(self, x, y):\n",
    "        self.x = float(x)\n",
    "        self.y = float(y)\n",
    "\n",
    "    def __iter__(self):\n",
    "        \"\"\" 实现迭代方法，把vector2d变成可迭代对象 \"\"\"\n",
    "        return (i for i in (self.x, self.y))\n",
    "\n",
    "    def __repr__(self):\n",
    "        \"\"\" *self返回x,y变量给format，前提是实现__iter__方法 \"\"\"\n",
    "        class_name = type(self).__name__\n",
    "        return '{}({!r}, {!r})'.format(class_name, *self)\n",
    "\n",
    "    def __str__(self):\n",
    "        return str(tuple(self))\n",
    "\n",
    "    def __bytes__(self):\n",
    "        return (bytes([ord(self.typecode)]) +\n",
    "                bytes(array(self.typecode, self)))\n",
    "\n",
    "    def __eq__(self, other):\n",
    "        return tuple(self) == tuple(other)\n",
    "\n",
    "    def __abs__(self):\n",
    "        return math.hypot(self.x, self.y)\n",
    "\n",
    "    def __bool__(self):\n",
    "        return bool(abs(self))\n",
    "\n",
    "# BEGIN VECTOR2D_V1\n",
    "    @classmethod  # <1>\n",
    "    def frombytes(cls, octets):  # <2>\n",
    "        typecode = chr(octets[0])  # <3>\n",
    "        memv = memoryview(octets[1:]).cast(typecode)  # typecode=d，二进制转换成浮点型\n",
    "        return cls(*memv)  # <5>\n",
    "# END VECTOR2D_V1"
   ]
  },
  {
   "cell_type": "code",
   "execution_count": 4,
   "metadata": {},
   "outputs": [
    {
     "name": "stdout",
     "output_type": "stream",
     "text": [
      "Vector2d(3.0, 4.0)\n",
      "True\n"
     ]
    }
   ],
   "source": [
    "v1 = Vector2d(3,4)\n",
    "print(repr(v1))\n",
    "v1_clone = eval(repr(v1))## 通过字符串形式克隆Vector2d实例\n",
    "print(v1 == v1_clone)"
   ]
  },
  {
   "cell_type": "code",
   "execution_count": 7,
   "metadata": {},
   "outputs": [
    {
     "name": "stdout",
     "output_type": "stream",
     "text": [
      "b'd\\x00\\x00\\x00\\x00\\x00\\x00\\x08@\\x00\\x00\\x00\\x00\\x00\\x00\\x10@'\n",
      "True\n"
     ]
    }
   ],
   "source": [
    "print(bytes(v1))\n",
    "v1_clone = Vector2d.frombytes(bytes(v1))## 通过字节形式克隆Vector2d实例\n",
    "print(v1_clone == v1)"
   ]
  },
  {
   "cell_type": "markdown",
   "metadata": {},
   "source": []
  }
 ],
 "metadata": {
  "interpreter": {
   "hash": "ac4f8d55ec42a5fdb4a75a40116202f3e8965960f96100e67dac118307178370"
  },
  "kernelspec": {
   "display_name": "Python 3.9.7 ('base')",
   "language": "python",
   "name": "python3"
  },
  "language_info": {
   "codemirror_mode": {
    "name": "ipython",
    "version": 3
   },
   "file_extension": ".py",
   "mimetype": "text/x-python",
   "name": "python",
   "nbconvert_exporter": "python",
   "pygments_lexer": "ipython3",
   "version": "3.9.7"
  },
  "orig_nbformat": 4
 },
 "nbformat": 4,
 "nbformat_minor": 2
}
