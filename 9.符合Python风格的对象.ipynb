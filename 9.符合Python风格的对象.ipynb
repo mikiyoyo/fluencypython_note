{
 "cells": [
  {
   "cell_type": "markdown",
   "metadata": {},
   "source": [
    "# 9符合Python风格的对象\n",
    "## 9.1对象表现形式\n",
    "1. 对象字符串表示形式\n",
    "    + repr()——对象的_\\_repr__方法，以便于开发者理解的方式返回对象的字符串表示形式。\n",
    "    + str()——对象的_\\_str__方式，以便于用户理解的方式返回对象的字符串表示形式。\n",
    "    + bytes()——对象的_\\_bytes__方法，生成实例的二进制表达形式\n"
   ]
  },
  {
   "cell_type": "code",
   "execution_count": 3,
   "metadata": {},
   "outputs": [],
   "source": [
    "\n",
    "from array import array\n",
    "import math\n",
    "\n",
    "\n",
    "class Vector2d:\n",
    "    typecode = 'd'\n",
    "\n",
    "    def __init__(self, x, y):\n",
    "        self.x = float(x)\n",
    "        self.y = float(y)\n",
    "\n",
    "    def __iter__(self):\n",
    "        \"\"\" 实现迭代方法，把vector2d变成可迭代对象 \"\"\"\n",
    "        return (i for i in (self.x, self.y))\n",
    "\n",
    "    def __repr__(self):\n",
    "        \"\"\" *self返回x,y变量给format，前提是实现__iter__方法 \"\"\"\n",
    "        class_name = type(self).__name__\n",
    "        return '{}({!r}, {!r})'.format(class_name, *self)\n",
    "\n",
    "    def __str__(self):\n",
    "        return str(tuple(self))\n",
    "\n",
    "    def __bytes__(self):\n",
    "        return (bytes([ord(self.typecode)]) +\n",
    "                bytes(array(self.typecode, self)))\n",
    "\n",
    "    def __eq__(self, other):\n",
    "        return tuple(self) == tuple(other)\n",
    "\n",
    "    def __abs__(self):\n",
    "        return math.hypot(self.x, self.y)\n",
    "\n",
    "    def __bool__(self):\n",
    "        return bool(abs(self))\n",
    "\n",
    "# BEGIN VECTOR2D_V1\n",
    "    @classmethod  # <1>\n",
    "    def frombytes(cls, octets):  # <2>\n",
    "        typecode = chr(octets[0])  # <3>\n",
    "        memv = memoryview(octets[1:]).cast(typecode)  # typecode=d，二进制转换成浮点型\n",
    "        return cls(*memv)  # <5>\n",
    "# END VECTOR2D_V1"
   ]
  },
  {
   "cell_type": "code",
   "execution_count": 4,
   "metadata": {},
   "outputs": [
    {
     "name": "stdout",
     "output_type": "stream",
     "text": [
      "Vector2d(3.0, 4.0)\n",
      "True\n"
     ]
    }
   ],
   "source": [
    "v1 = Vector2d(3,4)\n",
    "print(repr(v1))\n",
    "v1_clone = eval(repr(v1))## 通过字符串形式克隆Vector2d实例\n",
    "print(v1 == v1_clone)"
   ]
  },
  {
   "cell_type": "code",
   "execution_count": 7,
   "metadata": {},
   "outputs": [
    {
     "name": "stdout",
     "output_type": "stream",
     "text": [
      "b'd\\x00\\x00\\x00\\x00\\x00\\x00\\x08@\\x00\\x00\\x00\\x00\\x00\\x00\\x10@'\n",
      "True\n"
     ]
    }
   ],
   "source": [
    "print(bytes(v1))\n",
    "v1_clone = Vector2d.frombytes(bytes(v1))## 通过字节形式克隆Vector2d实例\n",
    "print(v1_clone == v1)"
   ]
  },
  {
   "cell_type": "markdown",
   "metadata": {},
   "source": [
    "## 9.4 classmethod 与 staticmethod\n",
    "1. classmethod装饰器，定义操作类，该方法第一个参数时类本身，不是实例。常用于定义备选构造方法\n",
    "2. staticmethod装饰器，静态方法类似普通的函数，只不过在类的定义体中"
   ]
  },
  {
   "cell_type": "code",
   "execution_count": 5,
   "metadata": {},
   "outputs": [
    {
     "name": "stdout",
     "output_type": "stream",
     "text": [
      "(<class '__main__.Demo'>,)\n",
      "(<class '__main__.Demo'>, 'spam')\n",
      "()\n",
      "('spam',)\n"
     ]
    }
   ],
   "source": [
    "class Demo:\n",
    "    @classmethod\n",
    "    def classmeth (*args):\n",
    "        return args\n",
    "    @staticmethod\n",
    "    def statmeth(*args):\n",
    "        return args\n",
    "print(Demo.classmeth())\n",
    "print(Demo.classmeth('spam'))\n",
    "print(Demo.statmeth())\n",
    "print(Demo.statmeth('spam'))"
   ]
  },
  {
   "cell_type": "markdown",
   "metadata": {},
   "source": [
    "## 9.5 格式化显示\n",
    "1. 格式化方法：\n",
    "    + 内置函数format(obj, format_spec)\n",
    "    + 字符串方法str.format()\n",
    "    + 基于各个类型相应的._\\_format__(format_spec)方法实现；format_space——格式说明符\n",
    "2. [格式规范微语言](https://docs.python.org/3/library/string.html#format-specification-mini-language)\n",
    "    + b——二进制，x——十六进制，f——浮点数，%——百分数\n",
    "    + 格式规范微语言是可扩展的，各个类可以自行决定如何解释format_spec参数，由_\\_format__方法实现。如datetime\n",
    "3. 在自定义的格式代码中选择字母，避免使用其他类型已使用过的字母。整数使用的代码有\"bcdoxxn’，浮点数使用的代码有\"eEfFgGn%’，字符串使用的代码有\"s’"
   ]
  },
  {
   "cell_type": "code",
   "execution_count": 9,
   "metadata": {},
   "outputs": [
    {
     "name": "stdout",
     "output_type": "stream",
     "text": [
      "0.4115\n",
      "0.41\n",
      "1101111\n",
      "6f\n",
      "50.0%\n"
     ]
    }
   ],
   "source": [
    "print(format(1/2.43,'0.4f'))\n",
    "print('{rate:0.2f}'.format(rate=1/2.43))#{rate:0.2f}冒号:左边是字段名，右边是格式说明符（格式规范微语言）\n",
    "print(format(111,'b'))\n",
    "print(format(111,'x'))\n",
    "print(format(0.5,'.1%'))"
   ]
  },
  {
   "cell_type": "code",
   "execution_count": 17,
   "metadata": {},
   "outputs": [
    {
     "name": "stdout",
     "output_type": "stream",
     "text": [
      "2022-09-22 23:11:09\n",
      "2022-09-22 23:11:09\n"
     ]
    }
   ],
   "source": [
    "from datetime import datetime\n",
    "from time import strftime\n",
    "now = datetime.now()\n",
    "print(format(now, '%Y-%m-%d %H:%M:%S'))\n",
    "print(strftime('%Y-%m-%d %H:%M:%S'))"
   ]
  },
  {
   "cell_type": "markdown",
   "metadata": {},
   "source": [
    "## 9.6 可散列\n",
    "1. 类实现\\_\\_hash\\_\\_、\\_\\_eq\\_\\_方法\n",
    "2. 类的属性求只读（标记为私有self.\\_\\_x），__@property__ 装饰器把读值方法标记为特性\n"
   ]
  },
  {
   "cell_type": "code",
   "execution_count": 14,
   "metadata": {},
   "outputs": [],
   "source": [
    "from array import array\n",
    "import math\n",
    "\n",
    "# BEGIN VECTOR2D_V3_PROP\n",
    "class Vector2d:\n",
    "    typecode = 'd'\n",
    "\n",
    "    def __init__(self, x, y):\n",
    "        self.__x = float(x)  # <1>标记为私有属性\n",
    "        self.__y = float(y)\n",
    "\n",
    "    @property  # <2>把读值方法标记为特性 即vector.x调用该函数\n",
    "    def x(self):  # <3>与属性同名\n",
    "        return self.__x  # <4>\n",
    "\n",
    "    @property  # <5>\n",
    "    def y(self):\n",
    "        return self.__y\n",
    "\n",
    "    def __iter__(self):\n",
    "        return (i for i in (self.x, self.y))  # <6>\n",
    "\n",
    "    # remaining methods follow (omitted in book listing)\n",
    "# END VECTOR2D_V3_PROP\n",
    "\n",
    "    def __repr__(self):\n",
    "        class_name = type(self).__name__\n",
    "        return '{}({!r}, {!r})'.format(class_name, *self)\n",
    "\n",
    "    def __str__(self):\n",
    "        return str(tuple(self))\n",
    "\n",
    "    def __bytes__(self):\n",
    "        return (bytes([ord(self.typecode)]) +\n",
    "                bytes(array(self.typecode, self)))\n",
    "\n",
    "    def __eq__(self, other):\n",
    "        return tuple(self) == tuple(other)\n",
    "\n",
    "# BEGIN VECTOR_V3_HASH\n",
    "    def __hash__(self):\n",
    "        return hash(self.x) ^ hash(self.y)\n",
    "# END VECTOR_V3_HASH\n",
    "\n",
    "    def __abs__(self):\n",
    "        return math.hypot(self.x, self.y)\n",
    "\n",
    "    def __bool__(self):\n",
    "        return bool(abs(self))\n",
    "\n",
    "    def angle(self):\n",
    "        return math.atan2(self.y, self.x)\n",
    "\n",
    "    def __format__(self, fmt_spec=''):\n",
    "        if fmt_spec.endswith('p'):#自定义格式代码，获取向量极坐标\n",
    "            fmt_spec = fmt_spec[:-1]\n",
    "            coords = (abs(self), self.angle())\n",
    "            outer_fmt = '<{}, {}>'\n",
    "        else:\n",
    "            coords = self\n",
    "            outer_fmt = '({}, {})'\n",
    "        components = (format(c, fmt_spec) for c in coords)\n",
    "        return outer_fmt.format(*components)\n",
    "\n",
    "    @classmethod\n",
    "    def frombytes(cls, octets):\n",
    "        typecode = chr(octets[0])\n",
    "        memv = memoryview(octets[1:]).cast(typecode)\n",
    "        return cls(*memv)\n"
   ]
  },
  {
   "cell_type": "code",
   "execution_count": 15,
   "metadata": {},
   "outputs": [],
   "source": [
    "v1 = Vector2d(3, 4)\n",
    "v1_clone = Vector2d.frombytes(bytes(v1))"
   ]
  },
  {
   "cell_type": "code",
   "execution_count": null,
   "metadata": {},
   "outputs": [],
   "source": [
    "\"\"\"测试样例\n",
    "A 2-dimensional vector class\n",
    "\n",
    "    >>> v1 = Vector2d(3, 4)\n",
    "    >>> print(v1.x, v1.y)\n",
    "    3.0 4.0\n",
    "    >>> x, y = v1\n",
    "    >>> x, y\n",
    "    (3.0, 4.0)\n",
    "    >>> v1\n",
    "    Vector2d(3.0, 4.0)\n",
    "    >>> v1_clone = eval(repr(v1))\n",
    "    >>> v1 == v1_clone\n",
    "    True\n",
    "    >>> print(v1)\n",
    "    (3.0, 4.0)\n",
    "    >>> octets = bytes(v1)\n",
    "    >>> octets\n",
    "    b'd\\\\x00\\\\x00\\\\x00\\\\x00\\\\x00\\\\x00\\\\x08@\\\\x00\\\\x00\\\\x00\\\\x00\\\\x00\\\\x00\\\\x10@'\n",
    "    >>> abs(v1)\n",
    "    5.0\n",
    "    >>> bool(v1), bool(Vector2d(0, 0))\n",
    "    (True, False)\n",
    "\n",
    "\n",
    "Test of ``.frombytes()`` class method:\n",
    "\n",
    "    >>> v1_clone = Vector2d.frombytes(bytes(v1))\n",
    "    >>> v1_clone\n",
    "    Vector2d(3.0, 4.0)\n",
    "    >>> v1 == v1_clone\n",
    "    True\n",
    "\n",
    "\n",
    "Tests of ``format()`` with Cartesian coordinates:\n",
    "\n",
    "    >>> format(v1)\n",
    "    '(3.0, 4.0)'\n",
    "    >>> format(v1, '.2f')\n",
    "    '(3.00, 4.00)'\n",
    "    >>> format(v1, '.3e')\n",
    "    '(3.000e+00, 4.000e+00)'\n",
    "\n",
    "\n",
    "Tests of the ``angle`` method::\n",
    "\n",
    "    >>> Vector2d(0, 0).angle()\n",
    "    0.0\n",
    "    >>> Vector2d(1, 0).angle()\n",
    "    0.0\n",
    "    >>> epsilon = 10**-8\n",
    "    >>> abs(Vector2d(0, 1).angle() - math.pi/2) < epsilon\n",
    "    True\n",
    "    >>> abs(Vector2d(1, 1).angle() - math.pi/4) < epsilon\n",
    "    True\n",
    "\n",
    "\n",
    "Tests of ``format()`` with polar coordinates:\n",
    "\n",
    "    >>> format(Vector2d(1, 1), 'p')  # doctest:+ELLIPSIS\n",
    "    '<1.414213..., 0.785398...>'\n",
    "    >>> format(Vector2d(1, 1), '.3ep')\n",
    "    '<1.414e+00, 7.854e-01>'\n",
    "    >>> format(Vector2d(1, 1), '0.5fp')\n",
    "    '<1.41421, 0.78540>'\n",
    "\n",
    "# BEGIN VECTOR2D_V3_DEMO\n",
    "Tests of `x` and `y` read-only properties:\n",
    "\n",
    "    >>> v1.x, v1.y\n",
    "    (3.0, 4.0)\n",
    "    >>> v1.x = 123\n",
    "    Traceback (most recent call last):\n",
    "      ...\n",
    "    AttributeError: can't set attribute\n",
    "\n",
    "# END VECTOR2D_V3_HASH_DEMO\n",
    "\n",
    "Tests of hashing:\n",
    "# BEGIN VECTOR2D_V3_HASH_DEMO\n",
    "\n",
    "    >>> v1 = Vector2d(3, 4)\n",
    "    >>> v2 = Vector2d(3.1, 4.2)\n",
    "    >>> hash(v1), hash(v2)\n",
    "    (7, 384307168202284039)\n",
    "    >>> len(set([v1, v2]))\n",
    "    2\n",
    "\n",
    "# END VECTOR2D_V3_DEMO\n",
    "\n",
    "\"\"\""
   ]
  },
  {
   "cell_type": "markdown",
   "metadata": {},
   "source": [
    "## 9.7 Python私有属性，受保护属性\n",
    "1. \n",
    "    私有属性使用场景：举个例子。有人编写了一个名为 Dog 的类，这个类的内部用到了 mood实例属性，但是没有将其开放。现在，你创建了 Dog 类的子类：Beagle。如果你在毫不知情的情况下又创建了名为 mood 的实例属性，那么在继承的方法中就会把 Dog 类的 mood 属性覆盖掉。这是个难以调试的问题。\n",
    "    名称改写(name mangling)：为了避免这种情况，如果以_mood 的形式（两个前导下划线，尾部没有或最多有一个下划线）命名实例属性，Python 会把属性名存入实例的_dict_属性中，而且会在前面加上一个下划线和类名。因此，对Dog 类来说，_mood 会变成_Dog_mood；对 Beagle 类来说，会变成Beaglemood。\n"
   ]
  },
  {
   "cell_type": "code",
   "execution_count": 4,
   "metadata": {},
   "outputs": [
    {
     "name": "stdout",
     "output_type": "stream",
     "text": [
      "{'_Vector2d__x': 3.0, '_Vector2d__y': 4.0}\n",
      "1\n"
     ]
    },
    {
     "ename": "AttributeError",
     "evalue": "can't set attribute",
     "output_type": "error",
     "traceback": [
      "\u001b[0;31m---------------------------------------------------------------------------\u001b[0m",
      "\u001b[0;31mAttributeError\u001b[0m                            Traceback (most recent call last)",
      "\u001b[0;32m/var/folders/ty/dsj71tyj60v5x5mrmdh35fwc0000gn/T/ipykernel_75297/1684112154.py\u001b[0m in \u001b[0;36m<module>\u001b[0;34m\u001b[0m\n\u001b[1;32m      3\u001b[0m \u001b[0mv1\u001b[0m\u001b[0;34m.\u001b[0m\u001b[0m_Vector2d__x\u001b[0m \u001b[0;34m=\u001b[0m \u001b[0;36m1\u001b[0m\u001b[0;34m\u001b[0m\u001b[0;34m\u001b[0m\u001b[0m\n\u001b[1;32m      4\u001b[0m \u001b[0mprint\u001b[0m\u001b[0;34m(\u001b[0m\u001b[0mv1\u001b[0m\u001b[0;34m.\u001b[0m\u001b[0m_Vector2d__x\u001b[0m\u001b[0;34m)\u001b[0m\u001b[0;31m#2. 私有化的属性不可直接修改，需要通过该方式访问\u001b[0m\u001b[0;34m\u001b[0m\u001b[0;34m\u001b[0m\u001b[0m\n\u001b[0;32m----> 5\u001b[0;31m \u001b[0mv1\u001b[0m\u001b[0;34m.\u001b[0m\u001b[0mx\u001b[0m \u001b[0;34m=\u001b[0m \u001b[0;36m3\u001b[0m\u001b[0;34m\u001b[0m\u001b[0;34m\u001b[0m\u001b[0m\n\u001b[0m\u001b[1;32m      6\u001b[0m \u001b[0mprint\u001b[0m\u001b[0;34m(\u001b[0m\u001b[0mv1\u001b[0m\u001b[0;34m.\u001b[0m\u001b[0mx\u001b[0m\u001b[0;34m)\u001b[0m\u001b[0;34m\u001b[0m\u001b[0;34m\u001b[0m\u001b[0m\n",
      "\u001b[0;31mAttributeError\u001b[0m: can't set attribute"
     ]
    }
   ],
   "source": [
    "v1 = Vector2d(3,4)\n",
    "print(v1.__dict__)\n",
    "v1._Vector2d__x = 1\n",
    "print(v1._Vector2d__x)#2. 私有化的属性不可直接修改，需要通过该方式进行修改。由此可知该方式并不能使变量真正实现私有化\n",
    "v1.x = 3\n",
    "print(v1.x)\n"
   ]
  },
  {
   "attachments": {},
   "cell_type": "markdown",
   "metadata": {},
   "source": [
    "## 9.8 使用\\_\\_slots\\_\\_类属性节省空间\n",
    "1. 默认情况下，Python 在各个实例中名为_dict__的字典里存储实例属性。但字典会消耗大量的内存，当处理的实例数量很大，且属性不多，可使用\\_\\_slots\\_\\_类属性，节省内存。原理是让解释器在元组中存储实例属性，而不是字典\n",
    "2. 定义方法：\n",
    "```class Vector2d:\n",
    "    __slots__ = ('__x', '__y')\n",
    "\n",
    "    typecode = 'd'\n",
    "\n",
    "    # methods follow (omitted in book listing)\n",
    "# END VECTOR2D_V3_SLOTS\n",
    "\n",
    "    def __init__(self, x, y):\n",
    "        self.__x = float(x)\n",
    "        self.__y = float(y)\n",
    "```\n",
    "3. 注意在类中定义\\_\\_slots\\_\\_属性后不可有slots中所列名称之外的其他属性"
   ]
  },
  {
   "cell_type": "markdown",
   "metadata": {},
   "source": [
    "## 9.9覆盖类属性\n",
    "1. Python 中类属性可以为实例属性提供默认值：\n",
    "    + 如vector2d有一个typecode类属性，并非实例属性，使用self.typecode方式默认读取的是类属性。\n",
    "    + 如果为不存在的实例属性赋值，会新建实例属性。假如我们为typecode 实例属性赋值，那么同名类属性不受影响。即self.typecode=x，创建了一个实例属性，后续读取该值也是x而非类属性。不影响别的实例"
   ]
  }
 ],
 "metadata": {
  "interpreter": {
   "hash": "ac4f8d55ec42a5fdb4a75a40116202f3e8965960f96100e67dac118307178370"
  },
  "kernelspec": {
   "display_name": "Python 3.9.7 ('base')",
   "language": "python",
   "name": "python3"
  },
  "language_info": {
   "codemirror_mode": {
    "name": "ipython",
    "version": 3
   },
   "file_extension": ".py",
   "mimetype": "text/x-python",
   "name": "python",
   "nbconvert_exporter": "python",
   "pygments_lexer": "ipython3",
   "version": "3.9.7 (default, Sep 16 2021, 08:50:36) \n[Clang 10.0.0 ]"
  },
  "orig_nbformat": 4
 },
 "nbformat": 4,
 "nbformat_minor": 2
}
