{
 "cells": [
  {
   "cell_type": "markdown",
   "metadata": {},
   "source": [
    "# 4.文本与字节序列\n",
    "## 4.1 字符问题\n",
    "1. Unicode\n",
    "    + 字符的标识-码位字符的标识，即码位，是0~1114111 的数字（十进制），在Unicode 标准中以4~6个十六进制数字表示，而且加前缀“U+”。例如，字母A的码位是U+0041，欧元符号的码位是U+20AC\n",
    "    + 字符的具体表述取决于所用的编码，即utf-8、utf-16。在 UTF-8 编码中，A (U+0041）的码位编码成单个字节\\x41，而在 UIF-16LE 编码中编码成两个字节\\x41\\x00。\n",
    "2. 编码:encode，解码:decode\n",
    "\n",
    "## 4.2 字节概要\n",
    "1. bytes 与 bytearray对象的各个元素都是介于0~255之间的整数\n",
    "2. 二进制序列的切片始终都是同一类型的二进制序列，包括长度为1的切片\n",
    "3. [bytes VS bytearray](https://stackoverflow.com/questions/62903377/python3-bytes-vs-bytearray-and-converting-to-and-from-strings?newreg=4d248673031847c88f49f59faf8cb372)\n",
    "    bytes 不可变、bytearray可变\n",
    "4. 构建bytes bytearray 实例，传参：\n",
    "    + 一个 str 对象和一个 encoding 关键字参数。\n",
    "    + 一个可迭代对象，提供0~255之间的数值。\n",
    "    + 一个实现了缓冲协议的对象（如bytes、 bytearray、 memoryview、 array.array)；此时，把源对象中的字节序列复制到新建的二进制序列中。——底层操作，可能涉及类型转换"
   ]
  },
  {
   "cell_type": "code",
   "execution_count": 20,
   "metadata": {},
   "outputs": [
    {
     "name": "stdout",
     "output_type": "stream",
     "text": [
      "b'caf\\xc3\\xa9'\n",
      "99\n",
      "b'c'\n",
      "False\n",
      "bytearray(b'caf\\xc3\\xa9')\n",
      "bytearray(b'c')\n",
      "'bytes' object does not support item assignment\n",
      "bytearray(b'aaf\\xc3\\xa9')\n"
     ]
    }
   ],
   "source": [
    "cafe  = bytes('café', encoding='utf-8')\n",
    "print(cafe)\n",
    "print(cafe[0])#bytes对象的元素为整数\n",
    "print(cafe[:1])#bytes的切片始终为bytes对象\n",
    "print(cafe[0]==cafe[:1])\n",
    "cafe_arr = bytearray(cafe)\n",
    "print(cafe_arr)\n",
    "print(cafe_arr[:1])#bytearray 对象的切片仍为bytearray\n",
    "try:\n",
    "    cafe[0] = 97\n",
    "except Exception as e:\n",
    "    print(e)\n",
    "\n",
    "cafe_arr[0] = 97\n",
    "print(cafe_arr)"
   ]
  },
  {
   "cell_type": "code",
   "execution_count": 21,
   "metadata": {},
   "outputs": [
    {
     "name": "stdout",
     "output_type": "stream",
     "text": [
      "b'\\xfe\\xff\\xff\\xff\\x00\\x00\\x01\\x00\\x02\\x00'\n"
     ]
    }
   ],
   "source": [
    "import array\n",
    "numbers = array.array('h', [-2, -1, 0, 1, 2])#指定类型h\n",
    "octets = bytes(numbers)\n",
    "print(octets)"
   ]
  }
 ],
 "metadata": {
  "interpreter": {
   "hash": "ac4f8d55ec42a5fdb4a75a40116202f3e8965960f96100e67dac118307178370"
  },
  "kernelspec": {
   "display_name": "Python 3.9.7 ('base')",
   "language": "python",
   "name": "python3"
  },
  "language_info": {
   "codemirror_mode": {
    "name": "ipython",
    "version": 3
   },
   "file_extension": ".py",
   "mimetype": "text/x-python",
   "name": "python",
   "nbconvert_exporter": "python",
   "pygments_lexer": "ipython3",
   "version": "3.9.7"
  },
  "orig_nbformat": 4
 },
 "nbformat": 4,
 "nbformat_minor": 2
}
