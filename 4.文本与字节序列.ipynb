{
 "cells": [
  {
   "cell_type": "markdown",
   "metadata": {},
   "source": [
    "# 4.文本与字节序列\n",
    "## 4.1 字符问题\n",
    "1. Unicode\n",
    "    + 字符的标识-码位字符的标识，即码位，是0~1114111 的数字（十进制），在Unicode 标准中以4~6个十六进制数字表示，而且加前缀“U+”。例如，字母A的码位是U+0041，欧元符号的码位是U+20AC\n",
    "    + 字符的具体表述取决于所用的编码，即utf-8、utf-16。在 UTF-8 编码中，A (U+0041）的码位编码成单个字节\\x41，而在 UIF-16LE 编码中编码成两个字节\\x41\\x00。\n",
    "2. 编码:encode，解码:decode\n",
    "\n",
    "## 4.2 字节概要\n",
    "1. bytes 与 bytearray对象的各个元素都是介于0~255之间的整数\n",
    "2. 二进制序列的切片始终都是同一类型的二进制序列，包括长度为1的切片\n",
    "3. [bytes VS bytearray](https://stackoverflow.com/questions/62903377/python3-bytes-vs-bytearray-and-converting-to-and-from-strings?newreg=4d248673031847c88f49f59faf8cb372)\n",
    "    bytes 不可变、bytearray可变\n",
    "4. 构建字节序列实例实例，[bytes([source[, encoding[, errors]]])](https://www.runoob.com/python3/python3-func-bytes.html)、bytearray([source[, encoding[, errors]]]),将对象转换为字节对象，或创建指定大小的空字节对象。\n",
    "    + 如果 source 为整数，则返回一个长度为 source 的初始化数组；\n",
    "    + 如果 source 为字符串，则按照指定的 encoding 将字符串转换为字节序列；\n",
    "    + 如果 source 为可迭代类型，则元素必须为[0 ,255] 中的整数；\n",
    "    + 如果 source 为与 buffer 接口一致的对象，则此对象也可以被用于初始化 bytearray。\n",
    "    + 如果没有输入任何参数，默认就是初始化数组为0个元素。\n"
   ]
  },
  {
   "cell_type": "code",
   "execution_count": 20,
   "metadata": {},
   "outputs": [
    {
     "name": "stdout",
     "output_type": "stream",
     "text": [
      "b'caf\\xc3\\xa9'\n",
      "99\n",
      "b'c'\n",
      "False\n",
      "bytearray(b'caf\\xc3\\xa9')\n",
      "bytearray(b'c')\n",
      "'bytes' object does not support item assignment\n",
      "bytearray(b'aaf\\xc3\\xa9')\n"
     ]
    }
   ],
   "source": [
    "cafe  = bytes('café', encoding='utf-8')\n",
    "print(cafe)\n",
    "print(cafe[0])#bytes对象的元素为整数\n",
    "print(cafe[:1])#bytes的切片始终为bytes对象\n",
    "print(cafe[0]==cafe[:1])\n",
    "cafe_arr = bytearray(cafe)\n",
    "print(cafe_arr)\n",
    "print(cafe_arr[:1])#bytearray 对象的切片仍为bytearray\n",
    "try:\n",
    "    cafe[0] = 97\n",
    "except Exception as e:\n",
    "    print(e)#bytes类型不可变\n",
    "\n",
    "cafe_arr[0] = 97\n",
    "print(cafe_arr)"
   ]
  },
  {
   "cell_type": "code",
   "execution_count": 21,
   "metadata": {},
   "outputs": [
    {
     "name": "stdout",
     "output_type": "stream",
     "text": [
      "b'\\xfe\\xff\\xff\\xff\\x00\\x00\\x01\\x00\\x02\\x00'\n"
     ]
    }
   ],
   "source": [
    "import array\n",
    "numbers = array.array('h', [-2, -1, 0, 1, 2])#指定类型h\n",
    "octets = bytes(numbers)\n",
    "print(octets)"
   ]
  },
  {
   "cell_type": "markdown",
   "metadata": {},
   "source": [
    "5. 结构体和内存视图\n",
    "    + struct 模块提供了一些函数，把打包的字节序列转换成不同类型字段组成的元组，还有一些函数用于执行反向转换，把元组转换成打包的字节序列。可以处理bytes、bytearray、memoryview对象"
   ]
  },
  {
   "cell_type": "code",
   "execution_count": null,
   "metadata": {},
   "outputs": [],
   "source": [
    "import struct\n",
    "fmt=\"<3S3SHH\"\n",
    "with open( 'filter.gif','rb') as fp:\n",
    "\timg = memoryview(fp.read())\n",
    "header = img[ :10]\n",
    "bytes(header) \n",
    "#b’GIF89a+\\x02 xe6\\x0a'\n",
    "struct.unpack(fmt, header) \n",
    "#(b’GIF'， b'89a', 555， 230)\n"
   ]
  },
  {
   "cell_type": "markdown",
   "metadata": {},
   "source": [
    "## 4.3编码器\n",
    "1. 编码：文本转换成字节序列\n",
    "2. 解码：字节序列转换成文本\n",
    "## 4.4编解码问题\n",
    "1. 个别编码方式存在无法编码特殊字符时，使用该编码进行解码或编码时会出现编码错误，通过指定string.encode/decode('',error='?')可以处理无法编码的字符,感知错误  \n",
    "\n",
    "2. BOM\n",
    "    + UTF-16 编码开头有额外的字节为BOM(U+FEFF 字节序标记→小字节序系统编码为b'\\xff\\xfe') 。指明编码时使用Intel CPU的小字节序还是大字节序  \n",
    "    \n",
    "    + 小字节序设备中，各个码位的最低有效字节在前面，如'E'码位U+0045，在字节偏移的第2位和第3位编码为69 和 0。+ 在大字节序 CPU中，编码顺序是相反的。如'E'编码为0 69\n",
    "    +UTF-16 有两个变种：UTF-16LE，显式指明使用小字节序；UTF-16BE，显式指明使用大字节序。如果使用这两个变种，不会生成 BOM  \n",
    "    \n",
    "    + 根据标准，如果文件使用 UTF-16 编码，而且没有 BOM，那么应该假定它使用的是 UTF-16BE（大字节序）编码。然而，Intel x86 架构用的是小字节序，因此有很多文件用的是不带 BOM 的小字节序 UTF-16 编码。"
   ]
  },
  {
   "cell_type": "code",
   "execution_count": 7,
   "metadata": {},
   "outputs": [
    {
     "name": "stdout",
     "output_type": "stream",
     "text": [
      "b'\\xff\\xfeE\\x00'\n",
      "[255, 254, 69, 0]\n",
      "b'E\\x00'\n",
      "[69, 0]\n",
      "b'\\x00E'\n",
      "[0, 69]\n"
     ]
    }
   ],
   "source": [
    "E_u16 = 'E'.encode('utf_16')\n",
    "print(E_u16)\n",
    "print(list(E_u16))\n",
    "E_u16le = 'E'.encode('utf_16le')\n",
    "print(E_u16le)\n",
    "print(list(E_u16le))\n",
    "E_u16be = 'E'.encode('utf_16be')\n",
    "print(E_u16be)\n",
    "print(list(E_u16be))"
   ]
  },
  {
   "cell_type": "markdown",
   "metadata": {},
   "source": [
    "## 4.5 处理文本文件\n",
    "1. Unicode三明治——尽量不直接处理字节序列\n",
    "    + 在输入的字节序列解码成字符串\n",
    "    + 只处理文本字符串\n",
    "    + 输出时编码成字节序列\n",
    "\n",
    "## 4.6 为了正确比较而规范化Unicode字符\n",
    "1. Unicode 有组合字符。如café有两种方式构成\n",
    "2. 因组合字符的存在，可能个别字符看似相等（如é 与 e\\u0301），实际上码位序列不同，因此在比较字符串时需要将其规范化。即unicodedata.normalize\n",
    "    + NFC (Normalization Form C)使用最少的码位构成等价的字符串。\n",
    "    + NFD 把组合字符分解成基字符和单独的组合字符\n"
   ]
  },
  {
   "cell_type": "code",
   "execution_count": 12,
   "metadata": {},
   "outputs": [
    {
     "name": "stdout",
     "output_type": "stream",
     "text": [
      "café café\n",
      "4 5\n",
      "False\n",
      "4 4\n",
      "True\n",
      "5 5\n",
      "True\n"
     ]
    }
   ],
   "source": [
    "s1 = 'café'\n",
    "s2 = 'cafe\\u0301'\n",
    "print(s1,s2)\n",
    "print(len(s1),len(s2))\n",
    "print(s1==s2)\n",
    "\n",
    "from unicodedata import normalize\n",
    "print(len(normalize('NFC',s1)), len(normalize('NFC',s2)))\n",
    "print(normalize('NFC',s1) == normalize('NFC',s2))\n",
    "\n",
    "print(len(normalize('NFD',s1)), len(normalize('NFD',s2)))\n",
    "print(normalize('NFD',s1) == normalize('NFD',s2))\n",
    "\n"
   ]
  },
  {
   "cell_type": "code",
   "execution_count": 20,
   "metadata": {},
   "outputs": [
    {
     "name": "stdout",
     "output_type": "stream",
     "text": [
      "OHM SIGN Ω\n",
      "GREEK CAPITAL LETTER OMEGA Ω\n",
      "False\n",
      "True\n"
     ]
    }
   ],
   "source": [
    "from unicodedata import normalize,name\n",
    "\"\"\" 使用NFC时。有些单字符会被规范成另一个单字符。因此在比较匹配要规范化，防止出现意外： \"\"\"\n",
    "ohm = '\\u2126'\n",
    "print(name(ohm), ohm)\n",
    "ohm_c = normalize('NFC', ohm)\n",
    "print(name(ohm_c),ohm_c)\n",
    "print(ohm == ohm_c)\n",
    "print(normalize('NFC', ohm) == normalize('NFC', ohm_c))"
   ]
  },
  {
   "cell_type": "markdown",
   "metadata": {},
   "source": [
    "3. 大小写折叠 str.casefold() str.lower()\n",
    "4. 去除变音符号 unicodedata.combining 返回符号的规范组合类作为整数，没有则返回0\n",
    "5. 字符串映射，str.maketrans()"
   ]
  },
  {
   "cell_type": "code",
   "execution_count": 21,
   "metadata": {},
   "outputs": [
    {
     "data": {
      "text/plain": [
       "'“Herr Voß: • ½ cup of Œtker™ caffe latte • bowl of acai.”'"
      ]
     },
     "execution_count": 21,
     "metadata": {},
     "output_type": "execute_result"
    }
   ],
   "source": [
    "import unicodedata\n",
    "def shave_marks(txt):\n",
    "    \"\"\"Remove all diacritic marks\"\"\"\n",
    "    norm_txt = unicodedata.normalize('NFD', txt)  # <1>\n",
    "    shaved = ''.join(c for c in norm_txt\n",
    "                     if not unicodedata.combining(c))  # <2>\n",
    "    return unicodedata.normalize('NFC', shaved)  # <3>\n",
    "\n",
    "order = '“Herr Voß: • ½ cup of Œtker™ caffè latte • bowl of açaí.”'\n",
    "shave_marks(order)"
   ]
  },
  {
   "cell_type": "markdown",
   "metadata": {},
   "source": [
    "## 4.7 Unicode文本排序\n",
    "1. local.strxfrm作为排序键\n",
    "2. pyuca库\n",
    "## 4.8 Unicode数据库\n",
    "1. Unicode 标准提供了一个完整的数据库（许多格式化的文本文件），不仅包括码位与字符名称之间的映射，还有各个字符的元数据，以及字符之间的关系。\n",
    "2. 方法\n",
    "    + unicodedata.name()\n",
    "    + unicodedata.numeric()\n",
    "    + .isdecimal()\n",
    "    + .isnumeric()"
   ]
  },
  {
   "cell_type": "code",
   "execution_count": 22,
   "metadata": {},
   "outputs": [
    {
     "name": "stdout",
     "output_type": "stream",
     "text": [
      "U+0031\t  1   \tre_dig\tisdig\tisnum\t 1.00\tDIGIT ONE\n",
      "U+00bc\t  ¼   \t-\t-\tisnum\t 0.25\tVULGAR FRACTION ONE QUARTER\n",
      "U+00b2\t  ²   \t-\tisdig\tisnum\t 2.00\tSUPERSCRIPT TWO\n",
      "U+0969\t  ३   \tre_dig\tisdig\tisnum\t 3.00\tDEVANAGARI DIGIT THREE\n",
      "U+136b\t  ፫   \t-\tisdig\tisnum\t 3.00\tETHIOPIC DIGIT THREE\n",
      "U+216b\t  Ⅻ   \t-\t-\tisnum\t12.00\tROMAN NUMERAL TWELVE\n",
      "U+2466\t  ⑦   \t-\tisdig\tisnum\t 7.00\tCIRCLED DIGIT SEVEN\n",
      "U+2480\t  ⒀   \t-\t-\tisnum\t13.00\tPARENTHESIZED NUMBER THIRTEEN\n",
      "U+3285\t  ㊅   \t-\t-\tisnum\t 6.00\tCIRCLED IDEOGRAPH SIX\n"
     ]
    }
   ],
   "source": [
    "import unicodedata\n",
    "import re\n",
    "\n",
    "re_digit = re.compile(r'\\d')\n",
    "\n",
    "sample = '1\\xbc\\xb2\\u0969\\u136b\\u216b\\u2466\\u2480\\u3285'\n",
    "\n",
    "for char in sample:\n",
    "    print('U+%04x' % ord(char),                       # <1>\n",
    "          char.center(6),                             # <2>\n",
    "          're_dig' if re_digit.match(char) else '-',  # <3>\n",
    "          'isdig' if char.isdigit() else '-',         # <4>\n",
    "          'isnum' if char.isnumeric() else '-',       # <5>\n",
    "          format(unicodedata.numeric(char), '5.2f'),  # <6>\n",
    "          unicodedata.name(char),                     # <7>\n",
    "          sep='\\t')"
   ]
  },
  {
   "cell_type": "markdown",
   "metadata": {},
   "source": [
    "## 4.9 支持字符串和字节序列的双模式API\n",
    "1. 正则表达式有字符串模式、字节序列模式\n",
    "    + 如果使用字节序列构建正则表达式，\\d 和\\w 等模式只能匹配 ASCI 字符；\n",
    "    + 如果是字符串模式，就能匹配 ASCI 之外的 Unicode 数字或字母。\n",
    "    + 字节序列只能用字节序列正则表达式搜索   \n",
    "    \n",
    "2. os，给os模块函数传字节序列参数，可以得到字节序列返回值。为了便于手动处理字符串或字节序列形式的文件名或路径名，os模块提供了特殊的编码和解码函数。\n",
    "    + fsencode(filename) 如果 filename 是 str 类型（此外还可能是 bytes 类型），使用sys.getfilesystemencoding(）返回的编解码器把 filename 编码成字节序列；否则，返回未经修改的 filename 字节序列。  \n",
    "\n",
    "    + fsdecode(filename)如果 filename 是 bytes 类型（此外还可能是 str 类型），使用sys.getfilesystemencoding(）返回的编解码器把 filename 解码成字符串；否则，返回未经修改的 filename字符串。"
   ]
  },
  {
   "cell_type": "code",
   "execution_count": 23,
   "metadata": {},
   "outputs": [
    {
     "name": "stdout",
     "output_type": "stream",
     "text": [
      "['4.文本与字节序列.ipynb', '5.一等函数.ipynb', '.DS_Store', '7.函数装饰器和闭包.ipynb', '1.Python数据模型.ipynb', 'example-code-master', '.history', 'README.md', '.ipynb_checkpoints', '9.符合Python风格的对象.ipynb', '.git', '8.对象引用、可变性和垃圾回收.ipynb']\n",
      "[b'4.\\xe6\\x96\\x87\\xe6\\x9c\\xac\\xe4\\xb8\\x8e\\xe5\\xad\\x97\\xe8\\x8a\\x82\\xe5\\xba\\x8f\\xe5\\x88\\x97.ipynb', b'5.\\xe4\\xb8\\x80\\xe7\\xad\\x89\\xe5\\x87\\xbd\\xe6\\x95\\xb0.ipynb', b'.DS_Store', b'7.\\xe5\\x87\\xbd\\xe6\\x95\\xb0\\xe8\\xa3\\x85\\xe9\\xa5\\xb0\\xe5\\x99\\xa8\\xe5\\x92\\x8c\\xe9\\x97\\xad\\xe5\\x8c\\x85.ipynb', b'1.Python\\xe6\\x95\\xb0\\xe6\\x8d\\xae\\xe6\\xa8\\xa1\\xe5\\x9e\\x8b.ipynb', b'example-code-master', b'.history', b'README.md', b'.ipynb_checkpoints', b'9.\\xe7\\xac\\xa6\\xe5\\x90\\x88Python\\xe9\\xa3\\x8e\\xe6\\xa0\\xbc\\xe7\\x9a\\x84\\xe5\\xaf\\xb9\\xe8\\xb1\\xa1.ipynb', b'.git', b'8.\\xe5\\xaf\\xb9\\xe8\\xb1\\xa1\\xe5\\xbc\\x95\\xe7\\x94\\xa8\\xe3\\x80\\x81\\xe5\\x8f\\xaf\\xe5\\x8f\\x98\\xe6\\x80\\xa7\\xe5\\x92\\x8c\\xe5\\x9e\\x83\\xe5\\x9c\\xbe\\xe5\\x9b\\x9e\\xe6\\x94\\xb6.ipynb']\n"
     ]
    }
   ],
   "source": [
    "import os\n",
    "print(os.listdir('.'))\n",
    "print(os.listdir(b'.'))"
   ]
  }
 ],
 "metadata": {
  "interpreter": {
   "hash": "ac4f8d55ec42a5fdb4a75a40116202f3e8965960f96100e67dac118307178370"
  },
  "kernelspec": {
   "display_name": "Python 3.9.7 ('base')",
   "language": "python",
   "name": "python3"
  },
  "language_info": {
   "codemirror_mode": {
    "name": "ipython",
    "version": 3
   },
   "file_extension": ".py",
   "mimetype": "text/x-python",
   "name": "python",
   "nbconvert_exporter": "python",
   "pygments_lexer": "ipython3",
   "version": "3.9.7"
  },
  "orig_nbformat": 4
 },
 "nbformat": 4,
 "nbformat_minor": 2
}
