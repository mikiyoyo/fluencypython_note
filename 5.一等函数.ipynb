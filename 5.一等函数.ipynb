{
 "cells": [
  {
   "cell_type": "markdown",
   "metadata": {},
   "source": [
    "# 5.一等函数\n",
    "1. 一等对象\n",
    "    + 运行时创建\n",
    "    + 可赋值给变量或数据结构中的元素\n",
    "    + 能作为参数传给函数\n",
    "    + 能作为函数返回结果\n",
    "## 5.1 函数是对象\n",
    "1. 行数对象是function类的实例\n",
    "2. "
   ]
  },
  {
   "cell_type": "code",
   "execution_count": 7,
   "metadata": {},
   "outputs": [
    {
     "name": "stdout",
     "output_type": "stream",
     "text": [
      " return n! \n",
      "<class 'function'>\n",
      "Help on function factorial in module __main__:\n",
      "\n",
      "factorial(n)\n",
      "    return n!\n",
      "\n"
     ]
    }
   ],
   "source": [
    "def factorial(n):\n",
    "    \"\"\" return n! \"\"\"\n",
    "    return 1 if n < 2 else n * factorial(n-1)\n",
    "\n",
    "print(factorial.__doc__)\n",
    "print(type(factorial))\n",
    "help(factorial)"
   ]
  },
  {
   "cell_type": "markdown",
   "metadata": {},
   "source": [
    "## 5.2高阶函数\n",
    "1. 接受函数为参数，或把函数作为返回结果的函数是高阶函数\n",
    "2. 经典高阶函数：map、filter、reduce、key，目前可用列表推导式和生成器表达式替代\n",
    "    + map将某函数分别应用到某序列的元素上，得到对应的函数调用结果映射\n",
    "    + filter 通过函数过滤某些元素，只保留函数结果为真的元素\n",
    "    + reduce 将某个函数操作连续应用到某序列元素上，累计结果获得相应的一个值。\n"
   ]
  },
  {
   "cell_type": "code",
   "execution_count": 8,
   "metadata": {},
   "outputs": [
    {
     "name": "stdout",
     "output_type": "stream",
     "text": [
      "[1, 1, 2, 6, 24, 120]\n",
      "[1, 1, 2, 6, 24, 120]\n",
      "[1, 6, 120]\n",
      "[1, 6, 120]\n"
     ]
    }
   ],
   "source": [
    "print(list(map(factorial, range(6))))\n",
    "print([factorial(n) for n in range(6)])#列表推导式实现map\n",
    "\n",
    "print(list(map(factorial,filter(lambda n: n%2, range(6)))))\n",
    "print([factorial(n) for n in range(6) if n%2])#通过if实现filter"
   ]
  },
  {
   "cell_type": "code",
   "execution_count": 1,
   "metadata": {},
   "outputs": [
    {
     "name": "stdout",
     "output_type": "stream",
     "text": [
      "4950\n",
      "4950\n"
     ]
    }
   ],
   "source": [
    "from functools import reduce\n",
    "from operator import add\n",
    "print(reduce(add, range(100)))\n",
    "print(sum(range(100)))"
   ]
  },
  {
   "cell_type": "markdown",
   "metadata": {},
   "source": [
    "## 5.3匿名函数\n",
    "1. lambda函数的定义体只能使用纯表达式，不能赋值，使用while、try\n",
    "2. 匿名函数重构：\n",
    "    + (1)编写注释，说明 1ambda 表达式的作用。\n",
    "    + (2）研究一会儿注释，并找出一个名称来概括注释。\n",
    "    + (3) 把 1ambda 表达式转换成 def 语句，使用那个名称来定义函数。\n",
    "    + (4) 删除注释。\n",
    "[Functional Programming HOWTO](https://docs.python.org/3/howto/functional.html)\n",
    "\n",
    "## 5.4可调用对象\n",
    "可使用callable()判断对象是否可以调用\n",
    "1. 用户定义的函数\n",
    "    使用 def 语句或 lambda 表达式创建\n",
    "2. 内置函数\n",
    "    使用C语言(CPython) 实现的函数，如 len 或 time.strftime。\n",
    "3. 内置方法\n",
    "    使用 C语言实现的方法，如 dict.get。\n",
    "4. 方法\n",
    "    在类的定义体中定义的函数。\n",
    "5. 类\n",
    "    调用类时会运行类的_new_方法创建一个实例，然后运行_init_方法，初始化实例，最后把实例返回给调用方。\n",
    "6. 类的实例\n",
    "    如果类定义了_\\_call__方法，其实例可以作为函数调用\n",
    "7. 生成器函数\n",
    "    使用了yield关键字的函数或方法。调用生成器函数返回的是生成器对象\n",
    "\n",
    "## 5.5用户定义的可调用类型\n",
    "1. 只要对象的类实现了_\\_call__方法，对象都可以被调用"
   ]
  },
  {
   "cell_type": "code",
   "execution_count": 5,
   "metadata": {},
   "outputs": [
    {
     "name": "stdout",
     "output_type": "stream",
     "text": [
      "0\n",
      "1\n",
      "True\n"
     ]
    }
   ],
   "source": [
    "import random\n",
    "class BingoCage:\n",
    "    def __init__(self, items):\n",
    "        self._items = list(items)\n",
    "        random.shuffle(self._items)\n",
    "    def pick(self):\n",
    "        try:\n",
    "            return self._items.pop()\n",
    "        except IndexError:\n",
    "            raise LookupError('pick from empty BingoCage')\n",
    "    def __call__(self):\n",
    "        return self.pick()\n",
    "\n",
    "bingo = BingoCage(range(3))\n",
    "print(bingo.pick())\n",
    "print(bingo())#直接调用对象与调用pick方法效果一样\n",
    "print(callable(bingo))"
   ]
  },
  {
   "cell_type": "markdown",
   "metadata": {},
   "source": [
    "## 5.6函数内省\n",
    "1. 通过dir()函数获取对象或类所有属性，包含_\\_dict__属性以及从父类继承的属性\n",
    "2. _\\_dict__属性只获取当前实例的属性（不包含类、父类的属性）\n",
    "    + [What's the biggest difference between dir() and __dict__ in Python](https://stackoverflow.com/questions/14361256/whats-the-biggest-difference-between-dir-and-dict-in-python)"
   ]
  },
  {
   "cell_type": "code",
   "execution_count": 16,
   "metadata": {},
   "outputs": [
    {
     "name": "stdout",
     "output_type": "stream",
     "text": [
      "{'__module__': '__main__', 'bar': 'spam', '__dict__': <attribute '__dict__' of 'Food' objects>, '__weakref__': <attribute '__weakref__' of 'Food' objects>, '__doc__': None} {}\n",
      "eggs {}\n",
      "eggs\n",
      "False {'fruit': 'apple'}\n"
     ]
    }
   ],
   "source": [
    "class Food(object):\n",
    "    bar = \"spam\"\n",
    "f = Food()\n",
    "print(Food.__dict__, f.__dict__)\n",
    "Food.ham = \"eggs\"\n",
    "print(Food.__dict__['ham'], f.__dict__)\n",
    "print(f.ham)\n",
    "\n",
    "f.fruit = 'apple'\n",
    "print('fruit' in Food.__dict__, f.__dict__)"
   ]
  },
  {
   "cell_type": "markdown",
   "metadata": {},
   "source": [
    "## 5.7 从定位参数到仅限关键字参数\n",
    "1. Python提供灵活的参数处理机制。调用函数时使用* 和 ** 展开可迭代对象，映射到单个参数\n",
    "2. 仅限关键字参数需要放在前面有*的参数后面，若不想支持数量不定的定位参数，可在函数签名里只放一个\\*"
   ]
  },
  {
   "cell_type": "code",
   "execution_count": 24,
   "metadata": {},
   "outputs": [
    {
     "ename": "TypeError",
     "evalue": "f() missing 1 required keyword-only argument: 'b'",
     "output_type": "error",
     "traceback": [
      "\u001b[0;31m---------------------------------------------------------------------------\u001b[0m",
      "\u001b[0;31mTypeError\u001b[0m                                 Traceback (most recent call last)",
      "\u001b[0;32m/var/folders/ty/dsj71tyj60v5x5mrmdh35fwc0000gn/T/ipykernel_3375/2333772543.py\u001b[0m in \u001b[0;36m<module>\u001b[0;34m\u001b[0m\n\u001b[1;32m      1\u001b[0m \u001b[0;32mdef\u001b[0m \u001b[0mf\u001b[0m\u001b[0;34m(\u001b[0m\u001b[0ma\u001b[0m\u001b[0;34m,\u001b[0m\u001b[0;34m*\u001b[0m\u001b[0;34m,\u001b[0m\u001b[0mb\u001b[0m\u001b[0;34m)\u001b[0m\u001b[0;34m:\u001b[0m\u001b[0;34m\u001b[0m\u001b[0;34m\u001b[0m\u001b[0m\n\u001b[1;32m      2\u001b[0m     \u001b[0;32mreturn\u001b[0m \u001b[0ma\u001b[0m\u001b[0;34m\u001b[0m\u001b[0;34m\u001b[0m\u001b[0m\n\u001b[0;32m----> 3\u001b[0;31m \u001b[0mf\u001b[0m\u001b[0;34m(\u001b[0m\u001b[0;36m1\u001b[0m\u001b[0;34m)\u001b[0m\u001b[0;31m#强制传入仅限关键参数b，否则会报错\u001b[0m\u001b[0;34m\u001b[0m\u001b[0;34m\u001b[0m\u001b[0m\n\u001b[0m",
      "\u001b[0;31mTypeError\u001b[0m: f() missing 1 required keyword-only argument: 'b'"
     ]
    }
   ],
   "source": [
    "def f(a,*,b):\n",
    "    return a\n",
    "f(1)#强制传入仅限关键参数b，否则会报错"
   ]
  },
  {
   "cell_type": "code",
   "execution_count": 50,
   "metadata": {},
   "outputs": [
    {
     "name": "stdout",
     "output_type": "stream",
     "text": [
      "<p title=\"hello\">hello</p>\n",
      "<p title=\"hello\">word</p>\n",
      "<img class=\"framed\" src=\"sunset.jpg\" title=\"Sunset Boulevard\" />\n"
     ]
    }
   ],
   "source": [
    "def tag(name, *content, cls=None, **attrs):\n",
    "    \"\"\"Generate one or more HTML tags\n",
    "    1、第一个参数name，可以是作为定位参数传入也可以作为关键字参数传入\n",
    "    2、第一个参数后面任意个参数会被*content捕获，存入一个元组\n",
    "    3、第三个参数cls仅限关键字参数只能作为关键字参数传入\n",
    "    4、当传入函数签名中未命名的关键字参数时，会被**attrs捕获\n",
    "    \"\"\"\n",
    "    if cls is not None:\n",
    "        attrs['class'] = cls\n",
    "    if attrs:\n",
    "        attr_str = ''.join(' %s=\"%s\"' % (attr, value)\n",
    "                           for attr, value\n",
    "                           in sorted(attrs.items()))\n",
    "    else:\n",
    "        attr_str = ''\n",
    "    if content:\n",
    "        return '\\n'.join('<%s%s>%s</%s>' %\n",
    "                         (name, attr_str, c, name) for c in content)\n",
    "    else:\n",
    "        return '<%s%s />' % (name, attr_str)\n",
    "\n",
    "print(tag('p','hello','word',title='hello'))#title 被**attrs捕获\n",
    "my_tag  = {'name':'img','title':'Sunset Boulevard','src':'sunset.jpg', 'cls':'framed' }\n",
    "print(tag(**my_tag))"
   ]
  },
  {
   "cell_type": "markdown",
   "metadata": {},
   "source": [
    "## 5.8获取函数参数信息\n",
    "1. _\\_default__ 属性 保存定位参数、关键字参数的默认值，返回一个元组\n",
    "2. _\\_kwdefaults__属性 保存仅限关键字参数的默认值，返回一个字典\n",
    "3. 参数的名称保存在_\\_code__ 属性 co_varnames"
   ]
  },
  {
   "cell_type": "code",
   "execution_count": 35,
   "metadata": {},
   "outputs": [
    {
     "name": "stdout",
     "output_type": "stream",
     "text": [
      "('p',)\n",
      "{'cls': None}\n",
      "<code object tag at 0x7fb4117a0b30, file \"/var/folders/ty/dsj71tyj60v5x5mrmdh35fwc0000gn/T/ipykernel_3375/1824390426.py\", line 1>\n",
      "('name', 'cls', 'content', 'attrs')\n",
      "1\n",
      "1\n"
     ]
    }
   ],
   "source": [
    "print(tag.__defaults__)#获取参数默认值\n",
    "print(tag.__kwdefaults__)#获取仅限关键字参数默认值\n",
    "print(tag.__code__)\n",
    "print(tag.__code__.co_varnames)#返回所有类型参数\n",
    "print(tag.__code__.co_argcount)#返回参数个数，不包括*args **kwargs\n",
    "print(tag.__code__.co_kwonlyargcount)#返回仅限关键字参数个数，不包括*args **kwargs"
   ]
  },
  {
   "cell_type": "markdown",
   "metadata": {},
   "source": [
    "4. inspect模块——提取函数签名\n",
    "5. inspect.ParameterKind\n",
    "    + POSITIONAL_OR KEYWNORD\n",
    "        可以通过定位参数和关键字参数传入的形参（多数 Python 函数的参数属于此类）。\n",
    "    + VAR_ POSITIONAL\n",
    "        定位参数元组。\n",
    "    + VAR KEYWORD\n",
    "        关键字参数字典。\n",
    "    + KEYWORD ONLY\n",
    "        仅限关键字参数\n",
    "    + POSITIONAL_ONLY\n",
    "        仅限定位参数；目前，Pyhon 声明函数的句法不支持，但是有些使用C语言实现且不接受关键字参数的函数（如 divmod）支持。\n",
    "6. 通过inspect.Signature 的bind方法可以将参数绑定到函数签名的形参上，可以在调用函数前验证参数是否合法\n"
   ]
  },
  {
   "cell_type": "code",
   "execution_count": 41,
   "metadata": {},
   "outputs": [
    {
     "name": "stdout",
     "output_type": "stream",
     "text": [
      "<Signature (name='p', *content, cls=None, **attrs)>\n",
      "OrderedDict([('name', <Parameter \"name='p'\">), ('content', <Parameter \"*content\">), ('cls', <Parameter \"cls=None\">), ('attrs', <Parameter \"**attrs\">)])\n",
      "POSITIONAL_OR_KEYWORD : name = p\n",
      "VAR_POSITIONAL : content = <class 'inspect._empty'>\n",
      "KEYWORD_ONLY : cls = None\n",
      "VAR_KEYWORD : attrs = <class 'inspect._empty'>\n"
     ]
    }
   ],
   "source": [
    "from inspect import signature\n",
    "sig = signature(tag)\n",
    "print(repr(sig))#返回一个signature对象\n",
    "print(sig.parameters)#parameters 为一个orderedDict对象\n",
    "for name, param in sig.parameters.items():\n",
    "    print(param.kind, \":\", name, '=', param.default)"
   ]
  },
  {
   "cell_type": "code",
   "execution_count": 51,
   "metadata": {},
   "outputs": [
    {
     "name": "stdout",
     "output_type": "stream",
     "text": [
      "<BoundArguments (name='img', cls='framed', attrs={'title': 'Sunset Boulevard', 'src': 'sunset.jpg'})>\n",
      "name = img\n",
      "cls = framed\n",
      "attrs = {'title': 'Sunset Boulevard', 'src': 'sunset.jpg'}\n"
     ]
    },
    {
     "ename": "TypeError",
     "evalue": "missing a required argument: 'name'",
     "output_type": "error",
     "traceback": [
      "\u001b[0;31m---------------------------------------------------------------------------\u001b[0m",
      "\u001b[0;31mTypeError\u001b[0m                                 Traceback (most recent call last)",
      "\u001b[0;32m/var/folders/ty/dsj71tyj60v5x5mrmdh35fwc0000gn/T/ipykernel_3375/3567365707.py\u001b[0m in \u001b[0;36m<module>\u001b[0;34m\u001b[0m\n\u001b[1;32m      7\u001b[0m     \u001b[0mprint\u001b[0m\u001b[0;34m(\u001b[0m\u001b[0mname\u001b[0m\u001b[0;34m,\u001b[0m \u001b[0;34m'='\u001b[0m\u001b[0;34m,\u001b[0m \u001b[0mvalue\u001b[0m\u001b[0;34m)\u001b[0m\u001b[0;34m\u001b[0m\u001b[0;34m\u001b[0m\u001b[0m\n\u001b[1;32m      8\u001b[0m \u001b[0;32mdel\u001b[0m \u001b[0mmy_tag\u001b[0m\u001b[0;34m[\u001b[0m\u001b[0;34m'name'\u001b[0m\u001b[0;34m]\u001b[0m\u001b[0;34m\u001b[0m\u001b[0;34m\u001b[0m\u001b[0m\n\u001b[0;32m----> 9\u001b[0;31m \u001b[0mbound_args\u001b[0m \u001b[0;34m=\u001b[0m \u001b[0msig\u001b[0m\u001b[0;34m.\u001b[0m\u001b[0mbind\u001b[0m\u001b[0;34m(\u001b[0m\u001b[0;34m**\u001b[0m\u001b[0mmy_tag\u001b[0m\u001b[0;34m)\u001b[0m\u001b[0;31m#缺少需要的参数，无法绑定。抛出TypeError\u001b[0m\u001b[0;34m\u001b[0m\u001b[0;34m\u001b[0m\u001b[0m\n\u001b[0m",
      "\u001b[0;32m~/opt/anaconda3/lib/python3.9/inspect.py\u001b[0m in \u001b[0;36mbind\u001b[0;34m(self, *args, **kwargs)\u001b[0m\n\u001b[1;32m   3041\u001b[0m         \u001b[0;32mif\u001b[0m \u001b[0mthe\u001b[0m \u001b[0mpassed\u001b[0m \u001b[0marguments\u001b[0m \u001b[0mcan\u001b[0m \u001b[0;32mnot\u001b[0m \u001b[0mbe\u001b[0m \u001b[0mbound\u001b[0m\u001b[0;34m.\u001b[0m\u001b[0;34m\u001b[0m\u001b[0;34m\u001b[0m\u001b[0m\n\u001b[1;32m   3042\u001b[0m         \"\"\"\n\u001b[0;32m-> 3043\u001b[0;31m         \u001b[0;32mreturn\u001b[0m \u001b[0mself\u001b[0m\u001b[0;34m.\u001b[0m\u001b[0m_bind\u001b[0m\u001b[0;34m(\u001b[0m\u001b[0margs\u001b[0m\u001b[0;34m,\u001b[0m \u001b[0mkwargs\u001b[0m\u001b[0;34m)\u001b[0m\u001b[0;34m\u001b[0m\u001b[0;34m\u001b[0m\u001b[0m\n\u001b[0m\u001b[1;32m   3044\u001b[0m \u001b[0;34m\u001b[0m\u001b[0m\n\u001b[1;32m   3045\u001b[0m     \u001b[0;32mdef\u001b[0m \u001b[0mbind_partial\u001b[0m\u001b[0;34m(\u001b[0m\u001b[0mself\u001b[0m\u001b[0;34m,\u001b[0m \u001b[0;34m/\u001b[0m\u001b[0;34m,\u001b[0m \u001b[0;34m*\u001b[0m\u001b[0margs\u001b[0m\u001b[0;34m,\u001b[0m \u001b[0;34m**\u001b[0m\u001b[0mkwargs\u001b[0m\u001b[0;34m)\u001b[0m\u001b[0;34m:\u001b[0m\u001b[0;34m\u001b[0m\u001b[0;34m\u001b[0m\u001b[0m\n",
      "\u001b[0;32m~/opt/anaconda3/lib/python3.9/inspect.py\u001b[0m in \u001b[0;36m_bind\u001b[0;34m(self, args, kwargs, partial)\u001b[0m\n\u001b[1;32m   2956\u001b[0m                             \u001b[0mmsg\u001b[0m \u001b[0;34m=\u001b[0m \u001b[0;34m'missing a required argument: {arg!r}'\u001b[0m\u001b[0;34m\u001b[0m\u001b[0;34m\u001b[0m\u001b[0m\n\u001b[1;32m   2957\u001b[0m                             \u001b[0mmsg\u001b[0m \u001b[0;34m=\u001b[0m \u001b[0mmsg\u001b[0m\u001b[0;34m.\u001b[0m\u001b[0mformat\u001b[0m\u001b[0;34m(\u001b[0m\u001b[0marg\u001b[0m\u001b[0;34m=\u001b[0m\u001b[0mparam\u001b[0m\u001b[0;34m.\u001b[0m\u001b[0mname\u001b[0m\u001b[0;34m)\u001b[0m\u001b[0;34m\u001b[0m\u001b[0;34m\u001b[0m\u001b[0m\n\u001b[0;32m-> 2958\u001b[0;31m                             \u001b[0;32mraise\u001b[0m \u001b[0mTypeError\u001b[0m\u001b[0;34m(\u001b[0m\u001b[0mmsg\u001b[0m\u001b[0;34m)\u001b[0m \u001b[0;32mfrom\u001b[0m \u001b[0;32mNone\u001b[0m\u001b[0;34m\u001b[0m\u001b[0;34m\u001b[0m\u001b[0m\n\u001b[0m\u001b[1;32m   2959\u001b[0m             \u001b[0;32melse\u001b[0m\u001b[0;34m:\u001b[0m\u001b[0;34m\u001b[0m\u001b[0;34m\u001b[0m\u001b[0m\n\u001b[1;32m   2960\u001b[0m                 \u001b[0;31m# We have a positional argument to process\u001b[0m\u001b[0;34m\u001b[0m\u001b[0;34m\u001b[0m\u001b[0m\n",
      "\u001b[0;31mTypeError\u001b[0m: missing a required argument: 'name'"
     ]
    }
   ],
   "source": [
    "import inspect\n",
    "sig = inspect.signature(tag)\n",
    "my_tag  = {'name':'img','title':'Sunset Boulevard','src':'sunset.jpg', 'cls':'framed' }\n",
    "bound_args = sig.bind(**my_tag)\n",
    "print(repr(bound_args))\n",
    "for name,value in bound_args.arguments.items():\n",
    "    print(name, '=', value)\n",
    "del my_tag['name']\n",
    "bound_args = sig.bind(**my_tag)#缺少需要的参数，无法绑定。抛出TypeError\n"
   ]
  }
 ],
 "metadata": {
  "interpreter": {
   "hash": "ac4f8d55ec42a5fdb4a75a40116202f3e8965960f96100e67dac118307178370"
  },
  "kernelspec": {
   "display_name": "Python 3.9.7 ('base')",
   "language": "python",
   "name": "python3"
  },
  "language_info": {
   "codemirror_mode": {
    "name": "ipython",
    "version": 3
   },
   "file_extension": ".py",
   "mimetype": "text/x-python",
   "name": "python",
   "nbconvert_exporter": "python",
   "pygments_lexer": "ipython3",
   "version": "3.9.7"
  },
  "orig_nbformat": 4
 },
 "nbformat": 4,
 "nbformat_minor": 2
}
