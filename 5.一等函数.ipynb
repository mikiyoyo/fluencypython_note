{
 "cells": [
  {
   "cell_type": "markdown",
   "metadata": {},
   "source": [
    "# 5.一等函数\n",
    "1. 一等对象\n",
    "    + 运行时创建\n",
    "    + 可赋值给变量或数据结构中的元素\n",
    "    + 能作为参数传给函数\n",
    "    + 能作为函数返回结果\n",
    "## 5.1 函数是对象\n",
    "1. 行数对象是function类的实例\n",
    "2. "
   ]
  },
  {
   "cell_type": "code",
   "execution_count": 7,
   "metadata": {},
   "outputs": [
    {
     "name": "stdout",
     "output_type": "stream",
     "text": [
      " return n! \n",
      "<class 'function'>\n",
      "Help on function factorial in module __main__:\n",
      "\n",
      "factorial(n)\n",
      "    return n!\n",
      "\n"
     ]
    }
   ],
   "source": [
    "def factorial(n):\n",
    "    \"\"\" return n! \"\"\"\n",
    "    return 1 if n < 2 else n * factorial(n-1)\n",
    "\n",
    "print(factorial.__doc__)\n",
    "print(type(factorial))\n",
    "help(factorial)"
   ]
  },
  {
   "cell_type": "markdown",
   "metadata": {},
   "source": [
    "## 5.2高阶函数\n",
    "1. 接受函数为参数，或把函数作为返回结果的函数是高阶函数\n",
    "2. 经典高阶函数：map、filter、reduce、key，目前可用列表推导式和生成器表达式替代\n",
    "    + map将某函数分别应用到某序列的元素上，得到对应的函数调用结果映射\n",
    "    + filter 通过函数过滤某些元素，只保留函数结果为真的元素\n",
    "    + reduce 将某个函数操作连续应用到某序列元素上，累计结果获得相应的一个值。\n"
   ]
  },
  {
   "cell_type": "code",
   "execution_count": 8,
   "metadata": {},
   "outputs": [
    {
     "name": "stdout",
     "output_type": "stream",
     "text": [
      "[1, 1, 2, 6, 24, 120]\n",
      "[1, 1, 2, 6, 24, 120]\n",
      "[1, 6, 120]\n",
      "[1, 6, 120]\n"
     ]
    }
   ],
   "source": [
    "print(list(map(factorial, range(6))))\n",
    "print([factorial(n) for n in range(6)])#列表推导式实现map\n",
    "\n",
    "print(list(map(factorial,filter(lambda n: n%2, range(6)))))\n",
    "print([factorial(n) for n in range(6) if n%2])#通过if实现filter"
   ]
  },
  {
   "cell_type": "code",
   "execution_count": 1,
   "metadata": {},
   "outputs": [
    {
     "name": "stdout",
     "output_type": "stream",
     "text": [
      "4950\n",
      "4950\n"
     ]
    }
   ],
   "source": [
    "from functools import reduce\n",
    "from operator import add\n",
    "print(reduce(add, range(100)))\n",
    "print(sum(range(100)))"
   ]
  }
 ],
 "metadata": {
  "interpreter": {
   "hash": "ac4f8d55ec42a5fdb4a75a40116202f3e8965960f96100e67dac118307178370"
  },
  "kernelspec": {
   "display_name": "Python 3.9.7 ('base')",
   "language": "python",
   "name": "python3"
  },
  "language_info": {
   "codemirror_mode": {
    "name": "ipython",
    "version": 3
   },
   "file_extension": ".py",
   "mimetype": "text/x-python",
   "name": "python",
   "nbconvert_exporter": "python",
   "pygments_lexer": "ipython3",
   "version": "3.9.7"
  },
  "orig_nbformat": 4
 },
 "nbformat": 4,
 "nbformat_minor": 2
}
