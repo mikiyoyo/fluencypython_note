{
 "cells": [
  {
   "cell_type": "markdown",
   "metadata": {},
   "source": [
    "# 3字典和集合\n",
    "## 3.1泛映射类型\n",
    "1. collections.abc 模块中有 Mapping 和 MutableMapping 这两个抽象基类，它们的作用是\n",
    "    +   为 dict 和其他类似的类型 作为形式化的文档，它们定义了构建一个映射类型所需要的最基本的接口。\n",
    "    + 可以跟isinstance判断某个数据是不是广义上的映射类型\n",
    "2. 可散列的数据类型。如str、bytes、数值类型\n",
    "    + 如果一个对象是可散列的，那么在这个对象的生命周期中，它的散列值是不变的，而且这个对象需要实现_hash_(）方法。散列值为id()的返回值\n",
    "    + 另外可散列对象还要有_qe_(）方法，这样才能跟其他键做比较。\n",
    "    + 如果两个可散列对象是相等的，那么它们的散列值相等\n",
    "    + 当元组的元素都是不可变类型才是可散列的\n",
    "\n",
    "## 3.2字典推导\n",
    "1. 与列表推导式和生成器表达式概念一致。字典推导式：{key: value for key, value in list/dict/other}\n",
    "## 3.3 setdefault\n",
    "1. dict.setdefault(key, []).append(new_value)可以处理新出现的键值key，默认赋值为空列表[]，并在空列表中添加元素"
   ]
  },
  {
   "cell_type": "code",
   "execution_count": 3,
   "metadata": {},
   "outputs": [],
   "source": [
    "index = {}\n",
    "word = 'key'\n",
    "location = 'value'\n",
    "#实现对字典插入新的键值对\n",
    "occurrences= index.get(word, [])\n",
    "occurrences.append(location)\n",
    "index[word]=occurrences\n",
    "#优化后为\n",
    "index.setdefault(word, []).append(location)"
   ]
  },
  {
   "cell_type": "markdown",
   "metadata": {},
   "source": [
    "## 3.4映射的弹性键查询\n",
    "1. 通过实例化collection.defaultdict 对象，可以提供一个默认的构造方法，对于找不到键的的时候调用。该构造方法只会在\\_\\_getitem__里被调用。即get、_\\_contains__不会调用\n",
    "2. \\_\\_missing__，所有映射类型招不到键时，若类有提供\\_\\_missing__方法，则会调用他。如果没有该方法，则会抛出keyerror异常。\\_\\_missing__只会在\\_\\_getitem__里面调用\n",
    "## 3.5 字典的变种\n",
    "1. collection.OrderedDict 添加键时会保持顺序\n",
    "2. collection.ChainMap 该类型可以组合数个不同的映射对象，然后在进行键查找操作的时候，这些对象会被当作一个整体被逐个查找，直到键被找到为止。\n",
    "3. collection.Counter 这个映射类型会给键准备一个整数计数器。每次更新一个键的时候都会增加这个计数器。所以这个类型可以用来给可散列表对象计数。"
   ]
  },
  {
   "cell_type": "code",
   "execution_count": 4,
   "metadata": {},
   "outputs": [],
   "source": [
    "import collections\n",
    "#插入新的键值对,对于新的键值默认调用list()构造法创建一个列表作为新键的值,后续可以将值放入该列表中\n",
    "word = 'key'\n",
    "location = 'value'\n",
    "index = collections.defaultdict(list)\n",
    "index[word].append(location)"
   ]
  },
  {
   "cell_type": "code",
   "execution_count": 14,
   "metadata": {},
   "outputs": [
    {
     "name": "stdout",
     "output_type": "stream",
     "text": [
      "ChainMap({'art': 'van gogh', 'opera': 'carmen'}, {'music': 'bach', 'art': 'rembrandt'})\n",
      "['music', 'art', 'opera']\n",
      "van gogh\n"
     ]
    }
   ],
   "source": [
    "baseline = {'music': 'bach', 'art': 'rembrandt'}\n",
    "adjustments = {'art': 'van gogh', 'opera': 'carmen'}\n",
    "a = collections.ChainMap(adjustments, baseline)\n",
    "print(a)\n",
    "print(list(a))\n",
    "print(a['art'])"
   ]
  },
  {
   "cell_type": "markdown",
   "metadata": {},
   "source": [
    "## 3.6子类话UserDict\n",
    "1. 实现自定义映射类型，建议以UserDict为基类\n",
    "2. UserDict 并不是 dict 的子类，但是 UserDict 有一个叫作 data 的属性，是dict的实例，这个属性实际上是 UserDict 最终存储数据的地方。\n",
    "## 3.7不可变映射类型MappingProxyType\n",
    "1. type.MappingProxyType 如果给这个类一个映射，它会返回一个只读的映射视图。虽然是个只读视图，但是它是动态的。这意味着如果对原映射做出了改动，我们通过这个视图可以观察到，但是无法通过这个视图对原映射做出修改。——只读、动态"
   ]
  },
  {
   "cell_type": "code",
   "execution_count": 20,
   "metadata": {},
   "outputs": [
    {
     "name": "stdout",
     "output_type": "stream",
     "text": [
      "{1: 'A'}\n",
      "'mappingproxy' object does not support item assignment\n",
      "{1: 'A', 2: 'B'}\n"
     ]
    }
   ],
   "source": [
    "from types import MappingProxyType\n",
    "d = {1:'A'}\n",
    "d_proxy = MappingProxyType(d)\n",
    "print(d_proxy)\n",
    "try:\n",
    "    #该试图只读，无法通过试图修改原映射\n",
    "    d_proxy[1] = 'x'\n",
    "except Exception as e:\n",
    "    print(e)\n",
    "#动态\n",
    "d[2] = 'B'\n",
    "print(d_proxy)"
   ]
  },
  {
   "cell_type": "markdown",
   "metadata": {},
   "source": [
    "## 3.8集合论\n",
    "1. 集合——set，集合中的元素必须是可散列的\n",
    "2. 集合运算，|、&、-\n",
    "3. 集合的字面量，{1}、{1,2,3}\n",
    "4. 空集set()\n",
    "5. 集合推导式{i for i in range(10)}"
   ]
  },
  {
   "cell_type": "code",
   "execution_count": 22,
   "metadata": {},
   "outputs": [],
   "source": [
    "l = [1,2,3]\n",
    "a  = set(l)"
   ]
  }
 ],
 "metadata": {
  "kernelspec": {
   "display_name": "Python 3.9.7 ('base')",
   "language": "python",
   "name": "python3"
  },
  "language_info": {
   "codemirror_mode": {
    "name": "ipython",
    "version": 3
   },
   "file_extension": ".py",
   "mimetype": "text/x-python",
   "name": "python",
   "nbconvert_exporter": "python",
   "pygments_lexer": "ipython3",
   "version": "3.9.7"
  },
  "orig_nbformat": 4,
  "vscode": {
   "interpreter": {
    "hash": "ac4f8d55ec42a5fdb4a75a40116202f3e8965960f96100e67dac118307178370"
   }
  }
 },
 "nbformat": 4,
 "nbformat_minor": 2
}
