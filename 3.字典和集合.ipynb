{
 "cells": [
  {
   "cell_type": "markdown",
   "metadata": {},
   "source": [
    "# 3字典和集合\n",
    "## 3.1泛映射类型\n",
    "1. collections.abc 模块中有 Mapping 和 MutableMapping 这两个抽象基类，它们的作用是\n",
    "    +   为 dict 和其他类似的类型 作为形式化的文档，它们定义了构建一个映射类型所需要的最基本的接口。\n",
    "    + 可以跟isinstance判断某个数据是不是广义上的映射类型\n",
    "2. 可散列的数据类型。如str、bytes、数值类型\n",
    "    + 如果一个对象是可散列的，那么在这个对象的生命周期中，它的散列值是不变的，而且这个对象需要实现_hash_(）方法。散列值为id()的返回值\n",
    "    + 另外可散列对象还要有_qe_(）方法，这样才能跟其他键做比较。\n",
    "    + 如果两个可散列对象是相等的，那么它们的散列值相等\n",
    "    + 当元组的元素都是不可变类型才是可散列的"
   ]
  }
 ],
 "metadata": {
  "language_info": {
   "name": "python"
  },
  "orig_nbformat": 4
 },
 "nbformat": 4,
 "nbformat_minor": 2
}
